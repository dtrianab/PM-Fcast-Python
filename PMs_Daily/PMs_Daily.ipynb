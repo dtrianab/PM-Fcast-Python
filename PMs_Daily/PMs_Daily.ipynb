{
 "cells": [
  {
   "cell_type": "markdown",
   "metadata": {},
   "source": [
    "## Prediction of Daily PM10 and PM2.5"
   ]
  },
  {
   "cell_type": "markdown",
   "metadata": {},
   "source": [
    "### Importing Data"
   ]
  },
  {
   "cell_type": "markdown",
   "metadata": {},
   "source": [
    "The particulate matter data show some differences each other, on one hand the PM2.5 present fewer input variables as well some different type of variables if we compare these data with PM10."
   ]
  },
  {
   "cell_type": "code",
   "execution_count": 1,
   "metadata": {
    "ExecuteTime": {
     "end_time": "2020-02-24T08:58:30.012705Z",
     "start_time": "2020-02-24T08:58:20.634978Z"
    }
   },
   "outputs": [],
   "source": [
    "import pandas as pd\n",
    "import numpy as np\n",
    "import matplotlib.pyplot as plt\n",
    "\n",
    "from sklearn.decomposition import PCA\n",
    "\n",
    "from scipy.io import loadmat\n",
    "from sklearn import preprocessing\n",
    "\n",
    "from sklearn import linear_model\n",
    "\n",
    "from sklearn.model_selection import train_test_split\n",
    "from sklearn.model_selection import GridSearchCV\n",
    "\n",
    "from sklearn.neural_network import MLPRegressor\n",
    "\n",
    "from sklearn.metrics import max_error\n",
    "from sklearn.metrics import median_absolute_error\n",
    "from sklearn.metrics import mean_squared_error\n",
    "from sklearn.metrics import r2_score\n",
    "\n"
   ]
  },
  {
   "cell_type": "code",
   "execution_count": 2,
   "metadata": {
    "ExecuteTime": {
     "end_time": "2020-02-24T08:58:30.158670Z",
     "start_time": "2020-02-24T08:58:30.018674Z"
    },
    "scrolled": true
   },
   "outputs": [],
   "source": [
    "#Reading data and naming Columns\n",
    "y_PM25=pd.read_csv('y_PM25', header=0, index_col=0, parse_dates=True)\n",
    "X_PM25=pd.read_csv('X_PM25', header=0, index_col=0, parse_dates=True)\n",
    "y_PM10=pd.read_csv('y_PM10', header=0, index_col=0, parse_dates=True)\n",
    "X_PM10=pd.read_csv('X_PM10', header=0, index_col=0, parse_dates=True)"
   ]
  },
  {
   "cell_type": "code",
   "execution_count": 3,
   "metadata": {
    "ExecuteTime": {
     "end_time": "2020-02-24T08:58:30.200679Z",
     "start_time": "2020-02-24T08:58:30.163672Z"
    }
   },
   "outputs": [
    {
     "data": {
      "text/html": [
       "<div>\n",
       "<style scoped>\n",
       "    .dataframe tbody tr th:only-of-type {\n",
       "        vertical-align: middle;\n",
       "    }\n",
       "\n",
       "    .dataframe tbody tr th {\n",
       "        vertical-align: top;\n",
       "    }\n",
       "\n",
       "    .dataframe thead th {\n",
       "        text-align: right;\n",
       "    }\n",
       "</style>\n",
       "<table border=\"1\" class=\"dataframe\">\n",
       "  <thead>\n",
       "    <tr style=\"text-align: right;\">\n",
       "      <th></th>\n",
       "      <th>DEWP</th>\n",
       "      <th>TEMP</th>\n",
       "      <th>PRES</th>\n",
       "      <th>Iws</th>\n",
       "      <th>pm2.5_Max</th>\n",
       "      <th>DEWP_Max</th>\n",
       "      <th>TEMP_Max</th>\n",
       "      <th>PRES_Max</th>\n",
       "      <th>Iws_Max</th>\n",
       "      <th>pm2.5_Min</th>\n",
       "      <th>DEWP_Min</th>\n",
       "      <th>TEMP_Min</th>\n",
       "      <th>PRES_Min</th>\n",
       "      <th>Iws_Min</th>\n",
       "    </tr>\n",
       "    <tr>\n",
       "      <th>new_idx</th>\n",
       "      <th></th>\n",
       "      <th></th>\n",
       "      <th></th>\n",
       "      <th></th>\n",
       "      <th></th>\n",
       "      <th></th>\n",
       "      <th></th>\n",
       "      <th></th>\n",
       "      <th></th>\n",
       "      <th></th>\n",
       "      <th></th>\n",
       "      <th></th>\n",
       "      <th></th>\n",
       "      <th></th>\n",
       "    </tr>\n",
       "  </thead>\n",
       "  <tbody>\n",
       "    <tr>\n",
       "      <th>2010-01-02</th>\n",
       "      <td>-8.500000</td>\n",
       "      <td>-5.125000</td>\n",
       "      <td>1024.750000</td>\n",
       "      <td>24.860000</td>\n",
       "      <td>181.0</td>\n",
       "      <td>-7</td>\n",
       "      <td>-4.0</td>\n",
       "      <td>1028.0</td>\n",
       "      <td>55.43</td>\n",
       "      <td>105.0</td>\n",
       "      <td>-16</td>\n",
       "      <td>-6.0</td>\n",
       "      <td>1020.0</td>\n",
       "      <td>1.79</td>\n",
       "    </tr>\n",
       "    <tr>\n",
       "      <th>2010-01-03</th>\n",
       "      <td>-10.125000</td>\n",
       "      <td>-8.541667</td>\n",
       "      <td>1022.791667</td>\n",
       "      <td>70.937917</td>\n",
       "      <td>107.0</td>\n",
       "      <td>-7</td>\n",
       "      <td>-6.0</td>\n",
       "      <td>1027.0</td>\n",
       "      <td>127.84</td>\n",
       "      <td>53.0</td>\n",
       "      <td>-12</td>\n",
       "      <td>-11.0</td>\n",
       "      <td>1020.0</td>\n",
       "      <td>0.89</td>\n",
       "    </tr>\n",
       "    <tr>\n",
       "      <th>2010-01-04</th>\n",
       "      <td>-20.875000</td>\n",
       "      <td>-11.500000</td>\n",
       "      <td>1029.291667</td>\n",
       "      <td>111.160833</td>\n",
       "      <td>79.0</td>\n",
       "      <td>-14</td>\n",
       "      <td>-9.0</td>\n",
       "      <td>1035.0</td>\n",
       "      <td>198.45</td>\n",
       "      <td>20.0</td>\n",
       "      <td>-26</td>\n",
       "      <td>-15.0</td>\n",
       "      <td>1023.0</td>\n",
       "      <td>16.09</td>\n",
       "    </tr>\n",
       "    <tr>\n",
       "      <th>2010-01-05</th>\n",
       "      <td>-24.583333</td>\n",
       "      <td>-14.458333</td>\n",
       "      <td>1033.625000</td>\n",
       "      <td>56.920000</td>\n",
       "      <td>106.0</td>\n",
       "      <td>-22</td>\n",
       "      <td>-11.0</td>\n",
       "      <td>1035.0</td>\n",
       "      <td>218.57</td>\n",
       "      <td>25.0</td>\n",
       "      <td>-27</td>\n",
       "      <td>-19.0</td>\n",
       "      <td>1031.0</td>\n",
       "      <td>0.89</td>\n",
       "    </tr>\n",
       "    <tr>\n",
       "      <th>2010-01-06</th>\n",
       "      <td>-23.708333</td>\n",
       "      <td>-12.541667</td>\n",
       "      <td>1033.750000</td>\n",
       "      <td>18.511667</td>\n",
       "      <td>132.0</td>\n",
       "      <td>-21</td>\n",
       "      <td>-8.0</td>\n",
       "      <td>1035.0</td>\n",
       "      <td>59.00</td>\n",
       "      <td>20.0</td>\n",
       "      <td>-26</td>\n",
       "      <td>-17.0</td>\n",
       "      <td>1033.0</td>\n",
       "      <td>0.89</td>\n",
       "    </tr>\n",
       "  </tbody>\n",
       "</table>\n",
       "</div>"
      ],
      "text/plain": [
       "                 DEWP       TEMP         PRES         Iws  pm2.5_Max  \\\n",
       "new_idx                                                                \n",
       "2010-01-02  -8.500000  -5.125000  1024.750000   24.860000      181.0   \n",
       "2010-01-03 -10.125000  -8.541667  1022.791667   70.937917      107.0   \n",
       "2010-01-04 -20.875000 -11.500000  1029.291667  111.160833       79.0   \n",
       "2010-01-05 -24.583333 -14.458333  1033.625000   56.920000      106.0   \n",
       "2010-01-06 -23.708333 -12.541667  1033.750000   18.511667      132.0   \n",
       "\n",
       "            DEWP_Max  TEMP_Max  PRES_Max  Iws_Max  pm2.5_Min  DEWP_Min  \\\n",
       "new_idx                                                                  \n",
       "2010-01-02        -7      -4.0    1028.0    55.43      105.0       -16   \n",
       "2010-01-03        -7      -6.0    1027.0   127.84       53.0       -12   \n",
       "2010-01-04       -14      -9.0    1035.0   198.45       20.0       -26   \n",
       "2010-01-05       -22     -11.0    1035.0   218.57       25.0       -27   \n",
       "2010-01-06       -21      -8.0    1035.0    59.00       20.0       -26   \n",
       "\n",
       "            TEMP_Min  PRES_Min  Iws_Min  \n",
       "new_idx                                  \n",
       "2010-01-02      -6.0    1020.0     1.79  \n",
       "2010-01-03     -11.0    1020.0     0.89  \n",
       "2010-01-04     -15.0    1023.0    16.09  \n",
       "2010-01-05     -19.0    1031.0     0.89  \n",
       "2010-01-06     -17.0    1033.0     0.89  "
      ]
     },
     "execution_count": 3,
     "metadata": {},
     "output_type": "execute_result"
    }
   ],
   "source": [
    "X_PM25.head()"
   ]
  },
  {
   "cell_type": "code",
   "execution_count": 4,
   "metadata": {
    "ExecuteTime": {
     "end_time": "2020-02-24T08:58:30.228674Z",
     "start_time": "2020-02-24T08:58:30.207673Z"
    },
    "code_folding": []
   },
   "outputs": [],
   "source": [
    "#Standardization of data\n",
    "scaler_X_PM10 = preprocessing.StandardScaler().fit(X_PM10.to_numpy())\n",
    "scaler_y_PM10 = preprocessing.StandardScaler().fit(y_PM10.to_numpy())\n",
    "scaler_X_PM25 = preprocessing.StandardScaler().fit(X_PM25.to_numpy())\n",
    "scaler_y_PM25 = preprocessing.StandardScaler().fit(y_PM25.to_numpy())\n",
    "\n",
    "#Other type of normalization=>\n",
    "#MinMaxScaler #minmax_scale #MaxAbsScaler #StandardScaler #RobustScaler \n",
    "#Normalizer #QuantileTransformer #PowerTransformer\n",
    "X_PM10_scaled=scaler_X_PM10.transform(X_PM10)\n",
    "y_PM10_scaled=scaler_y_PM10.transform(y_PM10)\n",
    "\n",
    "X_PM25_scaled=scaler_X_PM25.transform(X_PM25)\n",
    "y_PM25_scaled=scaler_y_PM10.transform(y_PM25)"
   ]
  },
  {
   "cell_type": "markdown",
   "metadata": {},
   "source": [
    "### Splitting data into Training and Testing samples - Cross-Validation"
   ]
  },
  {
   "cell_type": "markdown",
   "metadata": {},
   "source": [
    "The data is split leaving some part out of the process, this part will be used to evualuate the performance of predictions. It is usually selected arround 70% or 80% of samples for learning the model."
   ]
  },
  {
   "cell_type": "code",
   "execution_count": 5,
   "metadata": {
    "ExecuteTime": {
     "end_time": "2020-02-24T08:58:30.238672Z",
     "start_time": "2020-02-24T08:58:30.232674Z"
    }
   },
   "outputs": [],
   "source": [
    "#Percentage of Testing Data, Remainder is training data\n",
    "splitter_PM10=0.10 \n",
    "splitter_PM25=0.10 \n",
    "\n",
    "#PCA Variance retained\n",
    "sigma2_PM10=0.999\n",
    "sigma2_PM25=0.999"
   ]
  },
  {
   "cell_type": "code",
   "execution_count": 6,
   "metadata": {
    "ExecuteTime": {
     "end_time": "2020-02-24T08:58:30.253675Z",
     "start_time": "2020-02-24T08:58:30.241673Z"
    }
   },
   "outputs": [],
   "source": [
    "#Splitting training and testing\n",
    "X_train_PM10, X_test_PM10, y_train_PM10, y_test_PM10 = train_test_split(X_PM10_scaled, y_PM10_scaled, test_size=splitter_PM10, shuffle='True')\n",
    "X_train_PM25, X_test_PM25, y_train_PM25, y_test_PM25 = train_test_split(X_PM25_scaled, y_PM25_scaled, test_size=splitter_PM25, shuffle='True')"
   ]
  },
  {
   "cell_type": "code",
   "execution_count": 7,
   "metadata": {
    "ExecuteTime": {
     "end_time": "2020-02-24T08:58:30.262678Z",
     "start_time": "2020-02-24T08:58:30.258673Z"
    }
   },
   "outputs": [],
   "source": [
    "#PCA PM10\n",
    "#pca_PM10 = PCA(sigma2_PM10)\n",
    "#pca_PM10 = pca_PM10.fit_transform(X_train_PM10)\n",
    "#principalComponents_PM10 = pd.DataFrame(data = pca_PM10)\n",
    "#print(len(principalComponents_PM10))\n",
    "\n",
    "#PCA PM25\n",
    "#pca_PM25 = PCA(sigma2_PM25)\n",
    "#pca_PM25 = pca_PM25.fit_transform(X_train_PM25)\n",
    "#principalComponents_PM25 = pd.DataFrame(data = pca_PM25)"
   ]
  },
  {
   "cell_type": "code",
   "execution_count": 8,
   "metadata": {
    "ExecuteTime": {
     "end_time": "2020-02-24T08:58:32.393210Z",
     "start_time": "2020-02-24T08:58:30.271673Z"
    }
   },
   "outputs": [],
   "source": [
    "#PM10 MLP\n",
    "mlp_nn = MLPRegressor(hidden_layer_sizes=(16,32,32), activation='tanh', solver='lbfgs')\n",
    "mlp_nn.fit(X_train_PM10, y_train_PM10.reshape(len(y_train_PM10),))\n",
    "\n",
    "y_predict_train_PM10=mlp_nn.predict(X_train_PM10)\n",
    "y_predict_test_PM10=mlp_nn.predict(X_test_PM10)\n",
    "\n",
    "#Descalating outputs\n",
    "y_predict_train_PM10_descaled=scaler_y_PM10.inverse_transform(y_predict_train_PM10)\n",
    "y_train_PM10_descaled=scaler_y_PM10.inverse_transform(y_train_PM10)\n",
    "\n",
    "y_predict_test_PM10_descaled=scaler_y_PM10.inverse_transform(y_predict_test_PM10)\n",
    "y_test_PM10_descaled=scaler_y_PM10.inverse_transform(y_test_PM10)\n",
    "    "
   ]
  },
  {
   "cell_type": "code",
   "execution_count": 9,
   "metadata": {
    "ExecuteTime": {
     "end_time": "2020-02-24T08:58:33.759207Z",
     "start_time": "2020-02-24T08:58:32.399211Z"
    }
   },
   "outputs": [],
   "source": [
    "#PM25 MLP\n",
    "mlp_nn_PM25 = MLPRegressor(hidden_layer_sizes=(16,32,32), activation='tanh', solver='lbfgs')\n",
    "mlp_nn_PM25.fit(X_train_PM25, y_train_PM25.reshape(len(y_train_PM25),))\n",
    "\n",
    "y_predict_train_PM25=mlp_nn_PM25.predict(X_train_PM25)\n",
    "y_predict_test_PM25=mlp_nn_PM25.predict(X_test_PM25)\n",
    "\n",
    "#Descalating outputs\n",
    "y_predict_train_PM25_descaled=scaler_y_PM25.inverse_transform(y_predict_train_PM25)\n",
    "y_train_PM25_descaled=scaler_y_PM25.inverse_transform(y_train_PM25)\n",
    "y_predict_test_PM25_descaled=scaler_y_PM25.inverse_transform(y_predict_test_PM25)\n",
    "y_test_PM25_descaled=scaler_y_PM25.inverse_transform(y_test_PM25)\n"
   ]
  },
  {
   "cell_type": "code",
   "execution_count": 10,
   "metadata": {
    "ExecuteTime": {
     "end_time": "2020-02-24T08:58:33.778210Z",
     "start_time": "2020-02-24T08:58:33.762211Z"
    },
    "code_folding": [
     0,
     7
    ]
   },
   "outputs": [],
   "source": [
    "#Functions =>\n",
    "def mean_absolute_percentage_error(y_true, y_pred): \n",
    "    #y_true, y_pred = check_arrays(y_true, y_pred)\n",
    "    ## Note: does not handle mix 1d representation\n",
    "    #if _is_1d(y_true): \n",
    "    #    y_true, y_pred = _check_1d_array(y_true, y_pred)\n",
    "    return np.mean(np.abs((y_true - y_pred) / y_true)) * 100\n",
    "\n",
    "def Wrap_Performance():\n",
    "    lst=np.array([\"Model\",\"Layers\",\"Optimization\",\"MAE_Train(ug/m3)\",\"MAE_Test(ug/m3)\", \"MAPE_Train(%)\",\"MAPE_Test(%)\"])\n",
    "    Performance_PM10=pd.DataFrame(columns=lst)\n",
    "    Performance_PM10[\"Model\"]=[\"MLP_Regressor\"]\n",
    "    Performance_PM10[\"Layers\"]=str(mlp_nn.hidden_layer_sizes)\n",
    "    Performance_PM10[\"Optimization\"]=[\"None\"]  \n",
    "    Performance_PM10[\"MAE_Train(ug/m3)\"]=median_absolute_error(y_predict_train_PM10_descaled,y_train_PM10_descaled)\n",
    "    Performance_PM10[\"MAE_Test(ug/m3)\"]=median_absolute_error(y_predict_test_PM10_descaled,y_test_PM10_descaled)\n",
    "    Performance_PM10[\"MAPE_Train(%)\"]=mean_absolute_percentage_error(y_predict_train_PM10_descaled,y_train_PM10_descaled)\n",
    "    Performance_PM10[\"MAPE_Test(%)\"]=mean_absolute_percentage_error(y_predict_test_PM10_descaled,y_test_PM10_descaled)\n",
    "    return Performance_PM10\n",
    "\n",
    "def Wrap_Performance_PM25():\n",
    "    lst=np.array([\"Model\",\"Layers\",\"Optimization\",\"MAE_Train(ug/m3)\",\"MAE_Test(ug/m3)\", \"MAPE_Train(%)\",\"MAPE_Test(%)\"])\n",
    "    Performance_PM25=pd.DataFrame(columns=lst)\n",
    "    Performance_PM25[\"Model\"]=[\"MLP_Regressor\"]\n",
    "    Performance_PM25[\"Layers\"]=str(mlp_nn_PM25.hidden_layer_sizes)\n",
    "    Performance_PM25[\"Optimization\"]=[\"None\"]\n",
    "    Performance_PM25[\"MAE_Train(ug/m3)\"]=median_absolute_error(y_predict_train_PM25_descaled,y_train_PM25_descaled)\n",
    "    Performance_PM25[\"MAE_Test(ug/m3)\"]=median_absolute_error(y_predict_test_PM25_descaled,y_test_PM25_descaled)\n",
    "    Performance_PM25[\"MAPE_Train(%)\"]=mean_absolute_percentage_error(y_predict_train_PM25_descaled,y_train_PM25_descaled)\n",
    "    Performance_PM25[\"MAPE_Test(%)\"]=mean_absolute_percentage_error(y_predict_test_PM25_descaled,y_test_PM25_descaled)\n",
    "    return Performance_PM25"
   ]
  },
  {
   "cell_type": "code",
   "execution_count": 11,
   "metadata": {
    "ExecuteTime": {
     "end_time": "2020-02-24T08:58:33.853211Z",
     "start_time": "2020-02-24T08:58:33.780210Z"
    }
   },
   "outputs": [
    {
     "data": {
      "text/html": [
       "<div>\n",
       "<style scoped>\n",
       "    .dataframe tbody tr th:only-of-type {\n",
       "        vertical-align: middle;\n",
       "    }\n",
       "\n",
       "    .dataframe tbody tr th {\n",
       "        vertical-align: top;\n",
       "    }\n",
       "\n",
       "    .dataframe thead th {\n",
       "        text-align: right;\n",
       "    }\n",
       "</style>\n",
       "<table border=\"1\" class=\"dataframe\">\n",
       "  <thead>\n",
       "    <tr style=\"text-align: right;\">\n",
       "      <th></th>\n",
       "      <th>Model</th>\n",
       "      <th>Layers</th>\n",
       "      <th>Optimization</th>\n",
       "      <th>MAE_Train(ug/m3)</th>\n",
       "      <th>MAE_Test(ug/m3)</th>\n",
       "      <th>MAPE_Train(%)</th>\n",
       "      <th>MAPE_Test(%)</th>\n",
       "    </tr>\n",
       "  </thead>\n",
       "  <tbody>\n",
       "    <tr>\n",
       "      <th>0</th>\n",
       "      <td>MLP_Regressor</td>\n",
       "      <td>(16, 32, 32)</td>\n",
       "      <td>None</td>\n",
       "      <td>2.951163</td>\n",
       "      <td>9.806039</td>\n",
       "      <td>65.289201</td>\n",
       "      <td>80.041714</td>\n",
       "    </tr>\n",
       "  </tbody>\n",
       "</table>\n",
       "</div>"
      ],
      "text/plain": [
       "           Model        Layers Optimization  MAE_Train(ug/m3)  \\\n",
       "0  MLP_Regressor  (16, 32, 32)         None          2.951163   \n",
       "\n",
       "   MAE_Test(ug/m3)  MAPE_Train(%)  MAPE_Test(%)  \n",
       "0         9.806039      65.289201     80.041714  "
      ]
     },
     "execution_count": 11,
     "metadata": {},
     "output_type": "execute_result"
    }
   ],
   "source": [
    "Performance_PM10=Wrap_Performance()\n",
    "Performance_PM10"
   ]
  },
  {
   "cell_type": "code",
   "execution_count": 12,
   "metadata": {
    "ExecuteTime": {
     "end_time": "2020-02-24T08:58:33.943211Z",
     "start_time": "2020-02-24T08:58:33.857212Z"
    }
   },
   "outputs": [
    {
     "data": {
      "text/html": [
       "<div>\n",
       "<style scoped>\n",
       "    .dataframe tbody tr th:only-of-type {\n",
       "        vertical-align: middle;\n",
       "    }\n",
       "\n",
       "    .dataframe tbody tr th {\n",
       "        vertical-align: top;\n",
       "    }\n",
       "\n",
       "    .dataframe thead th {\n",
       "        text-align: right;\n",
       "    }\n",
       "</style>\n",
       "<table border=\"1\" class=\"dataframe\">\n",
       "  <thead>\n",
       "    <tr style=\"text-align: right;\">\n",
       "      <th></th>\n",
       "      <th>Model</th>\n",
       "      <th>Layers</th>\n",
       "      <th>Optimization</th>\n",
       "      <th>MAE_Train(ug/m3)</th>\n",
       "      <th>MAE_Test(ug/m3)</th>\n",
       "      <th>MAPE_Train(%)</th>\n",
       "      <th>MAPE_Test(%)</th>\n",
       "    </tr>\n",
       "  </thead>\n",
       "  <tbody>\n",
       "    <tr>\n",
       "      <th>0</th>\n",
       "      <td>MLP_Regressor</td>\n",
       "      <td>(16, 32, 32)</td>\n",
       "      <td>None</td>\n",
       "      <td>83.391581</td>\n",
       "      <td>124.768042</td>\n",
       "      <td>201.539498</td>\n",
       "      <td>166.718177</td>\n",
       "    </tr>\n",
       "  </tbody>\n",
       "</table>\n",
       "</div>"
      ],
      "text/plain": [
       "           Model        Layers Optimization  MAE_Train(ug/m3)  \\\n",
       "0  MLP_Regressor  (16, 32, 32)         None         83.391581   \n",
       "\n",
       "   MAE_Test(ug/m3)  MAPE_Train(%)  MAPE_Test(%)  \n",
       "0       124.768042     201.539498    166.718177  "
      ]
     },
     "execution_count": 12,
     "metadata": {},
     "output_type": "execute_result"
    }
   ],
   "source": [
    "Performance_PM25=Wrap_Performance_PM25()\n",
    "Performance_PM25"
   ]
  },
  {
   "cell_type": "code",
   "execution_count": null,
   "metadata": {},
   "outputs": [],
   "source": []
  }
 ],
 "metadata": {
  "hide_input": false,
  "kernelspec": {
   "display_name": "Python 3",
   "language": "python",
   "name": "python3"
  },
  "language_info": {
   "codemirror_mode": {
    "name": "ipython",
    "version": 3
   },
   "file_extension": ".py",
   "mimetype": "text/x-python",
   "name": "python",
   "nbconvert_exporter": "python",
   "pygments_lexer": "ipython3",
   "version": "3.7.3"
  },
  "latex_envs": {
   "LaTeX_envs_menu_present": true,
   "autoclose": false,
   "autocomplete": true,
   "bibliofile": "biblio.bib",
   "cite_by": "apalike",
   "current_citInitial": 1,
   "eqLabelWithNumbers": true,
   "eqNumInitial": 1,
   "hotkeys": {
    "equation": "Ctrl-E",
    "itemize": "Ctrl-I"
   },
   "labels_anchors": false,
   "latex_user_defs": false,
   "report_style_numbering": false,
   "user_envs_cfg": false
  },
  "nbTranslate": {
   "displayLangs": [
    "*"
   ],
   "hotkey": "alt-t",
   "langInMainMenu": true,
   "sourceLang": "en",
   "targetLang": "fr",
   "useGoogleTranslate": true
  },
  "toc": {
   "base_numbering": 1,
   "nav_menu": {},
   "number_sections": true,
   "sideBar": true,
   "skip_h1_title": false,
   "title_cell": "Table of Contents",
   "title_sidebar": "Contents",
   "toc_cell": false,
   "toc_position": {},
   "toc_section_display": true,
   "toc_window_display": false
  },
  "varInspector": {
   "cols": {
    "lenName": 16,
    "lenType": 16,
    "lenVar": 40
   },
   "kernels_config": {
    "python": {
     "delete_cmd_postfix": "",
     "delete_cmd_prefix": "del ",
     "library": "var_list.py",
     "varRefreshCmd": "print(var_dic_list())"
    },
    "r": {
     "delete_cmd_postfix": ") ",
     "delete_cmd_prefix": "rm(",
     "library": "var_list.r",
     "varRefreshCmd": "cat(var_dic_list()) "
    }
   },
   "types_to_exclude": [
    "module",
    "function",
    "builtin_function_or_method",
    "instance",
    "_Feature"
   ],
   "window_display": false
  }
 },
 "nbformat": 4,
 "nbformat_minor": 2
}
