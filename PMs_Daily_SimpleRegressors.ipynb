{
 "cells": [
  {
   "cell_type": "markdown",
   "metadata": {},
   "source": [
    "## Prediction of Daily PM10 and PM2.5"
   ]
  },
  {
   "cell_type": "markdown",
   "metadata": {},
   "source": [
    "### Importing Data"
   ]
  },
  {
   "cell_type": "markdown",
   "metadata": {},
   "source": [
    "The particulate matter data show some differences each other, on one hand the PM2.5 present fewer input variables as well some different type of variables if we compare these data with PM10."
   ]
  },
  {
   "cell_type": "code",
   "execution_count": 1,
   "metadata": {
    "ExecuteTime": {
     "end_time": "2020-01-29T07:57:39.741991Z",
     "start_time": "2020-01-29T07:57:35.593543Z"
    },
    "run_control": {
     "marked": false
    }
   },
   "outputs": [],
   "source": [
    "import pandas as pd\n",
    "import numpy as np\n",
    "import matplotlib.pyplot as plt\n",
    "\n",
    "from sklearn.decomposition import PCA\n",
    "\n",
    "from scipy.io import loadmat\n",
    "from sklearn import preprocessing\n",
    "\n",
    "from sklearn import linear_model\n",
    "from sklearn.model_selection import train_test_split\n",
    "from sklearn.model_selection import GridSearchCV\n",
    "\n",
    "from sklearn.neural_network import MLPRegressor\n",
    "\n",
    "from sklearn.metrics import max_error\n",
    "from sklearn.metrics import median_absolute_error\n",
    "from sklearn.metrics import mean_squared_error\n",
    "from sklearn.metrics import r2_score\n",
    "\n"
   ]
  },
  {
   "cell_type": "code",
   "execution_count": 2,
   "metadata": {
    "ExecuteTime": {
     "end_time": "2020-01-29T07:57:39.839683Z",
     "start_time": "2020-01-29T07:57:39.744991Z"
    },
    "code_folding": [
     0
    ],
    "scrolled": true
   },
   "outputs": [],
   "source": [
    "#Reading data and naming Columns\n",
    "PM25data=pd.read_csv(\"PRSA_data_2010.1.1-2014.12.31.csv\")\n",
    "PM10data=loadmat('data_Polish.mat')\n",
    "PM10data=pd.DataFrame.from_dict(PM10data['x'])\n",
    "PM10data.columns = ['PM_10','SO2','NO_2','OZON','WIND_SPEED', 'WIND_DIR', 'TEMP', 'PROM_SLON', 'WILGOT', 'WIND_X', 'WIND_Y']"
   ]
  },
  {
   "cell_type": "markdown",
   "metadata": {},
   "source": [
    "### NAN Values in datasets "
   ]
  },
  {
   "cell_type": "markdown",
   "metadata": {},
   "source": [
    "There are some NaN numbers in the PM2.5 data, it can be seen in the following two cells. On possible workarround may be to interpolate the missing values with the known ones and ensure all dataset will have defined values."
   ]
  },
  {
   "cell_type": "markdown",
   "metadata": {},
   "source": [
    "The interpolation is then carried out, nevertheless, the first 24 data points are still missing, thus they are removed completly."
   ]
  },
  {
   "cell_type": "code",
   "execution_count": 3,
   "metadata": {
    "ExecuteTime": {
     "end_time": "2020-01-29T07:57:39.924878Z",
     "start_time": "2020-01-29T07:57:39.842677Z"
    },
    "code_folding": [
     0
    ],
    "scrolled": true
   },
   "outputs": [],
   "source": [
    "#Interpolation and removing NAN Values from PM2.5 data, new data index is set. \n",
    "PM25_interpolate=PM25data['pm2.5'].fillna(method='ffill')\n",
    "PM25data_clean=PM25data\n",
    "PM25data_clean['pm2.5']=PM25_interpolate\n",
    "PM25data_clean=PM25data_clean[24:]\n",
    "i_PM10 = pd.date_range('2006-01-01', periods=len(PM10data), freq='H')\n",
    "PM10data.index=i_PM10\n",
    "PM25data_clean=PM25data_clean.set_index(['year', 'month','day','hour'])\n",
    "PM25data=PM25data_clean\n",
    "PM25data.drop(['No'], axis=1, inplace=True)\n",
    "PM25data['new_idx']=pd.to_datetime(PM25data.index.to_frame())\n",
    "PM25data.set_index('new_idx', inplace=True)"
   ]
  },
  {
   "cell_type": "code",
   "execution_count": 4,
   "metadata": {
    "ExecuteTime": {
     "end_time": "2020-01-29T07:57:39.975757Z",
     "start_time": "2020-01-29T07:57:39.926873Z"
    },
    "code_folding": [
     0
    ]
   },
   "outputs": [
    {
     "data": {
      "text/html": [
       "<div>\n",
       "<style scoped>\n",
       "    .dataframe tbody tr th:only-of-type {\n",
       "        vertical-align: middle;\n",
       "    }\n",
       "\n",
       "    .dataframe tbody tr th {\n",
       "        vertical-align: top;\n",
       "    }\n",
       "\n",
       "    .dataframe thead th {\n",
       "        text-align: right;\n",
       "    }\n",
       "</style>\n",
       "<table border=\"1\" class=\"dataframe\">\n",
       "  <thead>\n",
       "    <tr style=\"text-align: right;\">\n",
       "      <th></th>\n",
       "      <th>PM_10</th>\n",
       "      <th>SO2</th>\n",
       "      <th>NO_2</th>\n",
       "      <th>OZON</th>\n",
       "      <th>WIND_SPEED</th>\n",
       "      <th>WIND_DIR</th>\n",
       "      <th>TEMP</th>\n",
       "      <th>PROM_SLON</th>\n",
       "      <th>WILGOT</th>\n",
       "      <th>WIND_X</th>\n",
       "      <th>WIND_Y</th>\n",
       "    </tr>\n",
       "  </thead>\n",
       "  <tbody>\n",
       "    <tr>\n",
       "      <th>count</th>\n",
       "      <td>36831.000000</td>\n",
       "      <td>36831.000000</td>\n",
       "      <td>36831.000000</td>\n",
       "      <td>36831.000000</td>\n",
       "      <td>36831.000000</td>\n",
       "      <td>36831.000000</td>\n",
       "      <td>36831.000000</td>\n",
       "      <td>36831.000000</td>\n",
       "      <td>36831.000000</td>\n",
       "      <td>36831.000000</td>\n",
       "      <td>36831.000000</td>\n",
       "    </tr>\n",
       "    <tr>\n",
       "      <th>mean</th>\n",
       "      <td>33.560769</td>\n",
       "      <td>9.889465</td>\n",
       "      <td>24.821205</td>\n",
       "      <td>48.430007</td>\n",
       "      <td>1.705954</td>\n",
       "      <td>196.621949</td>\n",
       "      <td>8.708827</td>\n",
       "      <td>118.966170</td>\n",
       "      <td>74.903179</td>\n",
       "      <td>0.006133</td>\n",
       "      <td>-0.003876</td>\n",
       "    </tr>\n",
       "    <tr>\n",
       "      <th>std</th>\n",
       "      <td>26.244108</td>\n",
       "      <td>8.783450</td>\n",
       "      <td>17.852122</td>\n",
       "      <td>31.095223</td>\n",
       "      <td>0.798239</td>\n",
       "      <td>91.479774</td>\n",
       "      <td>9.151818</td>\n",
       "      <td>202.522871</td>\n",
       "      <td>19.766576</td>\n",
       "      <td>1.330480</td>\n",
       "      <td>1.333160</td>\n",
       "    </tr>\n",
       "    <tr>\n",
       "      <th>min</th>\n",
       "      <td>0.700000</td>\n",
       "      <td>0.700000</td>\n",
       "      <td>0.400000</td>\n",
       "      <td>0.100000</td>\n",
       "      <td>0.140000</td>\n",
       "      <td>0.000000</td>\n",
       "      <td>-26.000000</td>\n",
       "      <td>0.000000</td>\n",
       "      <td>16.000000</td>\n",
       "      <td>-5.311197</td>\n",
       "      <td>-5.577682</td>\n",
       "    </tr>\n",
       "    <tr>\n",
       "      <th>25%</th>\n",
       "      <td>17.250000</td>\n",
       "      <td>4.500000</td>\n",
       "      <td>12.500000</td>\n",
       "      <td>24.100000</td>\n",
       "      <td>1.110000</td>\n",
       "      <td>128.000000</td>\n",
       "      <td>1.300000</td>\n",
       "      <td>0.000000</td>\n",
       "      <td>61.000000</td>\n",
       "      <td>-0.947358</td>\n",
       "      <td>-0.950281</td>\n",
       "    </tr>\n",
       "    <tr>\n",
       "      <th>50%</th>\n",
       "      <td>27.100000</td>\n",
       "      <td>7.100000</td>\n",
       "      <td>20.100000</td>\n",
       "      <td>44.900000</td>\n",
       "      <td>1.610000</td>\n",
       "      <td>179.000000</td>\n",
       "      <td>8.900000</td>\n",
       "      <td>3.000000</td>\n",
       "      <td>80.000000</td>\n",
       "      <td>-0.005753</td>\n",
       "      <td>-0.002637</td>\n",
       "    </tr>\n",
       "    <tr>\n",
       "      <th>75%</th>\n",
       "      <td>42.300000</td>\n",
       "      <td>12.100000</td>\n",
       "      <td>31.700000</td>\n",
       "      <td>68.200000</td>\n",
       "      <td>2.200000</td>\n",
       "      <td>274.000000</td>\n",
       "      <td>15.600000</td>\n",
       "      <td>148.000000</td>\n",
       "      <td>91.000000</td>\n",
       "      <td>0.953193</td>\n",
       "      <td>0.944142</td>\n",
       "    </tr>\n",
       "    <tr>\n",
       "      <th>max</th>\n",
       "      <td>414.900000</td>\n",
       "      <td>157.800000</td>\n",
       "      <td>203.800000</td>\n",
       "      <td>189.100000</td>\n",
       "      <td>5.840000</td>\n",
       "      <td>360.000000</td>\n",
       "      <td>35.000000</td>\n",
       "      <td>940.000000</td>\n",
       "      <td>100.000000</td>\n",
       "      <td>4.934154</td>\n",
       "      <td>4.929808</td>\n",
       "    </tr>\n",
       "  </tbody>\n",
       "</table>\n",
       "</div>"
      ],
      "text/plain": [
       "              PM_10           SO2          NO_2          OZON    WIND_SPEED  \\\n",
       "count  36831.000000  36831.000000  36831.000000  36831.000000  36831.000000   \n",
       "mean      33.560769      9.889465     24.821205     48.430007      1.705954   \n",
       "std       26.244108      8.783450     17.852122     31.095223      0.798239   \n",
       "min        0.700000      0.700000      0.400000      0.100000      0.140000   \n",
       "25%       17.250000      4.500000     12.500000     24.100000      1.110000   \n",
       "50%       27.100000      7.100000     20.100000     44.900000      1.610000   \n",
       "75%       42.300000     12.100000     31.700000     68.200000      2.200000   \n",
       "max      414.900000    157.800000    203.800000    189.100000      5.840000   \n",
       "\n",
       "           WIND_DIR          TEMP     PROM_SLON        WILGOT        WIND_X  \\\n",
       "count  36831.000000  36831.000000  36831.000000  36831.000000  36831.000000   \n",
       "mean     196.621949      8.708827    118.966170     74.903179      0.006133   \n",
       "std       91.479774      9.151818    202.522871     19.766576      1.330480   \n",
       "min        0.000000    -26.000000      0.000000     16.000000     -5.311197   \n",
       "25%      128.000000      1.300000      0.000000     61.000000     -0.947358   \n",
       "50%      179.000000      8.900000      3.000000     80.000000     -0.005753   \n",
       "75%      274.000000     15.600000    148.000000     91.000000      0.953193   \n",
       "max      360.000000     35.000000    940.000000    100.000000      4.934154   \n",
       "\n",
       "             WIND_Y  \n",
       "count  36831.000000  \n",
       "mean      -0.003876  \n",
       "std        1.333160  \n",
       "min       -5.577682  \n",
       "25%       -0.950281  \n",
       "50%       -0.002637  \n",
       "75%        0.944142  \n",
       "max        4.929808  "
      ]
     },
     "execution_count": 4,
     "metadata": {},
     "output_type": "execute_result"
    }
   ],
   "source": [
    "#Some useful information from the whole PM10 daily dataset\n",
    "PM10data.describe()"
   ]
  },
  {
   "cell_type": "code",
   "execution_count": 5,
   "metadata": {
    "ExecuteTime": {
     "end_time": "2020-01-29T07:57:40.023640Z",
     "start_time": "2020-01-29T07:57:39.978734Z"
    },
    "code_folding": [
     0
    ]
   },
   "outputs": [
    {
     "data": {
      "text/html": [
       "<div>\n",
       "<style scoped>\n",
       "    .dataframe tbody tr th:only-of-type {\n",
       "        vertical-align: middle;\n",
       "    }\n",
       "\n",
       "    .dataframe tbody tr th {\n",
       "        vertical-align: top;\n",
       "    }\n",
       "\n",
       "    .dataframe thead th {\n",
       "        text-align: right;\n",
       "    }\n",
       "</style>\n",
       "<table border=\"1\" class=\"dataframe\">\n",
       "  <thead>\n",
       "    <tr style=\"text-align: right;\">\n",
       "      <th></th>\n",
       "      <th>pm2.5</th>\n",
       "      <th>DEWP</th>\n",
       "      <th>TEMP</th>\n",
       "      <th>PRES</th>\n",
       "      <th>Iws</th>\n",
       "      <th>Is</th>\n",
       "      <th>Ir</th>\n",
       "    </tr>\n",
       "  </thead>\n",
       "  <tbody>\n",
       "    <tr>\n",
       "      <th>count</th>\n",
       "      <td>43800.000000</td>\n",
       "      <td>43800.000000</td>\n",
       "      <td>43800.000000</td>\n",
       "      <td>43800.000000</td>\n",
       "      <td>43800.000000</td>\n",
       "      <td>43800.000000</td>\n",
       "      <td>43800.000000</td>\n",
       "    </tr>\n",
       "    <tr>\n",
       "      <th>mean</th>\n",
       "      <td>97.784018</td>\n",
       "      <td>1.828516</td>\n",
       "      <td>12.459041</td>\n",
       "      <td>1016.447306</td>\n",
       "      <td>23.894307</td>\n",
       "      <td>0.052763</td>\n",
       "      <td>0.195023</td>\n",
       "    </tr>\n",
       "    <tr>\n",
       "      <th>std</th>\n",
       "      <td>91.398542</td>\n",
       "      <td>14.429326</td>\n",
       "      <td>12.193384</td>\n",
       "      <td>10.271411</td>\n",
       "      <td>50.022729</td>\n",
       "      <td>0.760582</td>\n",
       "      <td>1.416247</td>\n",
       "    </tr>\n",
       "    <tr>\n",
       "      <th>min</th>\n",
       "      <td>0.000000</td>\n",
       "      <td>-40.000000</td>\n",
       "      <td>-19.000000</td>\n",
       "      <td>991.000000</td>\n",
       "      <td>0.450000</td>\n",
       "      <td>0.000000</td>\n",
       "      <td>0.000000</td>\n",
       "    </tr>\n",
       "    <tr>\n",
       "      <th>25%</th>\n",
       "      <td>29.000000</td>\n",
       "      <td>-10.000000</td>\n",
       "      <td>2.000000</td>\n",
       "      <td>1008.000000</td>\n",
       "      <td>1.790000</td>\n",
       "      <td>0.000000</td>\n",
       "      <td>0.000000</td>\n",
       "    </tr>\n",
       "    <tr>\n",
       "      <th>50%</th>\n",
       "      <td>72.000000</td>\n",
       "      <td>2.000000</td>\n",
       "      <td>14.000000</td>\n",
       "      <td>1016.000000</td>\n",
       "      <td>5.370000</td>\n",
       "      <td>0.000000</td>\n",
       "      <td>0.000000</td>\n",
       "    </tr>\n",
       "    <tr>\n",
       "      <th>75%</th>\n",
       "      <td>136.000000</td>\n",
       "      <td>15.000000</td>\n",
       "      <td>23.000000</td>\n",
       "      <td>1025.000000</td>\n",
       "      <td>21.910000</td>\n",
       "      <td>0.000000</td>\n",
       "      <td>0.000000</td>\n",
       "    </tr>\n",
       "    <tr>\n",
       "      <th>max</th>\n",
       "      <td>994.000000</td>\n",
       "      <td>28.000000</td>\n",
       "      <td>42.000000</td>\n",
       "      <td>1046.000000</td>\n",
       "      <td>585.600000</td>\n",
       "      <td>27.000000</td>\n",
       "      <td>36.000000</td>\n",
       "    </tr>\n",
       "  </tbody>\n",
       "</table>\n",
       "</div>"
      ],
      "text/plain": [
       "              pm2.5          DEWP          TEMP          PRES           Iws  \\\n",
       "count  43800.000000  43800.000000  43800.000000  43800.000000  43800.000000   \n",
       "mean      97.784018      1.828516     12.459041   1016.447306     23.894307   \n",
       "std       91.398542     14.429326     12.193384     10.271411     50.022729   \n",
       "min        0.000000    -40.000000    -19.000000    991.000000      0.450000   \n",
       "25%       29.000000    -10.000000      2.000000   1008.000000      1.790000   \n",
       "50%       72.000000      2.000000     14.000000   1016.000000      5.370000   \n",
       "75%      136.000000     15.000000     23.000000   1025.000000     21.910000   \n",
       "max      994.000000     28.000000     42.000000   1046.000000    585.600000   \n",
       "\n",
       "                 Is            Ir  \n",
       "count  43800.000000  43800.000000  \n",
       "mean       0.052763      0.195023  \n",
       "std        0.760582      1.416247  \n",
       "min        0.000000      0.000000  \n",
       "25%        0.000000      0.000000  \n",
       "50%        0.000000      0.000000  \n",
       "75%        0.000000      0.000000  \n",
       "max       27.000000     36.000000  "
      ]
     },
     "execution_count": 5,
     "metadata": {},
     "output_type": "execute_result"
    }
   ],
   "source": [
    "#Some useful information from the whole PM2.5 daily dataset\n",
    "PM25data.describe()"
   ]
  },
  {
   "cell_type": "markdown",
   "metadata": {},
   "source": [
    "### Creating Daily Regressors"
   ]
  },
  {
   "cell_type": "markdown",
   "metadata": {},
   "source": [
    "The daily regressors are now generated calculating the mean of each variable every 24 hours, the vales from non numeric variables are removed from the newly created dataframe. The boxplots show higher variability in the PM2.5 data, in both data however, several outliers points appear. Then, the datasets are scaled in order to have be processed by the models. "
   ]
  },
  {
   "cell_type": "code",
   "execution_count": 6,
   "metadata": {
    "ExecuteTime": {
     "end_time": "2020-01-29T07:57:40.251005Z",
     "start_time": "2020-01-29T07:57:40.024610Z"
    },
    "code_folding": [],
    "run_control": {
     "marked": false
    },
    "scrolled": true
   },
   "outputs": [
    {
     "data": {
      "image/png": "[encoded data removed]",
      "text/plain": [
       "<Figure size 432x288 with 2 Axes>"
      ]
     },
     "metadata": {
      "needs_background": "light"
     },
     "output_type": "display_data"
    }
   ],
   "source": [
    "#Boxplots of Daily PMs\n",
    "PM10_daily=PM10data.resample('d').mean()\n",
    "PM25_daily=PM25data.resample('d').mean()\n",
    "fig, axs = plt.subplots(1,2)\n",
    "boxplot1 = PM10_daily.boxplot(column=['PM_10'], ax=axs[0])\n",
    "boxplot2 = PM25_daily.boxplot(column=['pm2.5'], ax=axs[1])"
   ]
  },
  {
   "cell_type": "code",
   "execution_count": 7,
   "metadata": {
    "ExecuteTime": {
     "end_time": "2020-01-29T07:57:40.265996Z",
     "start_time": "2020-01-29T07:57:40.253997Z"
    },
    "code_folding": [],
    "run_control": {
     "marked": true
    }
   },
   "outputs": [],
   "source": [
    "#Standardization of data\n",
    "X_PM10=PM10_daily.values\n",
    "X_PM25=PM25_daily.values\n",
    "scaler_X_PM10 = preprocessing.StandardScaler().fit(X_PM10)\n",
    "scaler_X_PM25 = preprocessing.StandardScaler().fit(X_PM25)\n",
    "\n",
    "#Other type of normalization=>\n",
    "#MinMaxScaler #minmax_scale #MaxAbsScaler #StandardScaler #RobustScaler \n",
    "#Normalizer #QuantileTransformer #PowerTransformer\n",
    "X_PM10_scaled=scaler_X_PM10.transform(X_PM10)\n",
    "X_PM25_scaled=scaler_X_PM25.transform(X_PM25)"
   ]
  },
  {
   "cell_type": "code",
   "execution_count": 8,
   "metadata": {
    "ExecuteTime": {
     "end_time": "2020-01-29T07:57:40.275969Z",
     "start_time": "2020-01-29T07:57:40.271963Z"
    },
    "code_folding": [],
    "run_control": {
     "marked": true
    }
   },
   "outputs": [],
   "source": [
    "#First Column is Target Variable, the rest are the features\n",
    "X_PM25=X_PM25_scaled[:,1:]\n",
    "y_PM25=X_PM25_scaled[:,0]\n",
    "\n",
    "X_PM10=X_PM10_scaled[:,1:]\n",
    "y_PM10=X_PM10_scaled[:,0]"
   ]
  },
  {
   "cell_type": "markdown",
   "metadata": {},
   "source": [
    "### Splitting data into Training and Testing samples - Cross-Validation"
   ]
  },
  {
   "cell_type": "markdown",
   "metadata": {},
   "source": [
    "The data is split leaving some part out of the process, this part will be used to evualuate the performance of predictions. It is usually selected arround 70% or 80% of samples for learning the model."
   ]
  },
  {
   "cell_type": "code",
   "execution_count": 9,
   "metadata": {
    "ExecuteTime": {
     "end_time": "2020-01-29T07:57:40.286918Z",
     "start_time": "2020-01-29T07:57:40.279929Z"
    },
    "code_folding": [
     0
    ]
   },
   "outputs": [],
   "source": [
    "#Percentage of Testing Data, Remainder is training data\n",
    "splitter_PM10=0.10 \n",
    "splitter_PM25=0.10 \n",
    "\n",
    "#PCA Variance retained\n",
    "sigma2_PM10=0.999\n",
    "sigma2_PM25=0.999"
   ]
  },
  {
   "cell_type": "code",
   "execution_count": 10,
   "metadata": {
    "ExecuteTime": {
     "end_time": "2020-01-29T07:57:40.298910Z",
     "start_time": "2020-01-29T07:57:40.288903Z"
    },
    "code_folding": [
     0
    ]
   },
   "outputs": [],
   "source": [
    "#Splitting training and testing\n",
    "X_train_PM10, X_test_PM10, y_train_PM10, y_test_PM10 = train_test_split(X_PM10, y_PM10, test_size=splitter_PM10, shuffle='True')\n",
    "X_train_PM25, X_test_PM25, y_train_PM25, y_test_PM25 = train_test_split(X_PM25, y_PM25, test_size=splitter_PM25, shuffle='True')"
   ]
  },
  {
   "cell_type": "code",
   "execution_count": 11,
   "metadata": {
    "ExecuteTime": {
     "end_time": "2020-01-29T07:57:40.318823Z",
     "start_time": "2020-01-29T07:57:40.299882Z"
    },
    "code_folding": [
     0
    ],
    "run_control": {
     "marked": true
    }
   },
   "outputs": [
    {
     "name": "stdout",
     "output_type": "stream",
     "text": [
      "1381\n"
     ]
    }
   ],
   "source": [
    "#PCA PM10\n",
    "pca_PM10 = PCA(sigma2_PM10)\n",
    "pca_PM10 = pca_PM10.fit_transform(X_train_PM10)\n",
    "principalComponents_PM10 = pd.DataFrame(data = pca_PM10)\n",
    "print(len(principalComponents_PM10))\n",
    "\n",
    "#PCA PM25\n",
    "pca_PM25 = PCA(sigma2_PM25)\n",
    "pca_PM25 = pca_PM25.fit_transform(X_train_PM25)\n",
    "principalComponents_PM25 = pd.DataFrame(data = pca_PM25)"
   ]
  },
  {
   "cell_type": "code",
   "execution_count": null,
   "metadata": {
    "code_folding": [
     0
    ]
   },
   "outputs": [],
   "source": [
    "# Step Wise\n",
    "\n",
    "???"
   ]
  },
  {
   "cell_type": "code",
   "execution_count": null,
   "metadata": {},
   "outputs": [],
   "source": [
    "# Hyperparameter Optimization"
   ]
  },
  {
   "cell_type": "code",
   "execution_count": 12,
   "metadata": {
    "ExecuteTime": {
     "end_time": "2020-01-29T07:57:44.420416Z",
     "start_time": "2020-01-29T07:57:40.320818Z"
    },
    "code_folding": [
     7
    ]
   },
   "outputs": [],
   "source": [
    "#https://scikit-learn.org/stable/modules/grid_search.html\n",
    "#https://datascience.stackexchange.com/questions/36049/how-to-adjust-the-hyperparameters-of-mlp-classifier-to-get-more-perfect-performa\n",
    "\n",
    "nhn_range=[8,10,12,14,16,18]\n",
    "mae_train_PM10=np.empty(len(nhn_range))\n",
    "mae_test_PM10=np.empty(len(nhn_range))\n",
    "k=0\n",
    "for nhn in nhn_range:  \n",
    "    mlp = MLPRegressor(hidden_layer_sizes=(nhn,), activation='tanh', \n",
    "                       solver='adam', shuffle=False, random_state=42, \n",
    "                       max_iter=20000, momentum=0.7, early_stopping=True, \n",
    "                       validation_fraction=0.15)\n",
    "    mlp.fit(X_train_PM10,y_train_PM10)\n",
    "    \n",
    "    y_predict_train_PM10 = mlp.predict(X_train_PM10)\n",
    "    y_predict_test_PM10 = mlp.predict(X_test_PM10)\n",
    "    \n",
    "    \n",
    "    mae_train_PM10[k]=median_absolute_error(y_train_PM10, y_predict_train_PM10)\n",
    "    mae_test_PM10[k]=median_absolute_error(y_test_PM10,  y_predict_test_PM10)\n",
    "    k=k+1\n",
    "    "
   ]
  },
  {
   "cell_type": "code",
   "execution_count": 20,
   "metadata": {
    "ExecuteTime": {
     "end_time": "2020-01-29T09:00:34.802969Z",
     "start_time": "2020-01-29T08:59:53.941060Z"
    }
   },
   "outputs": [
    {
     "data": {
      "text/plain": [
       "GridSearchCV(cv=3, error_score='raise-deprecating',\n",
       "             estimator=MLPRegressor(activation='tanh', alpha=0.0001,\n",
       "                                    batch_size='auto', beta_1=0.9, beta_2=0.999,\n",
       "                                    early_stopping=True, epsilon=1e-08,\n",
       "                                    hidden_layer_sizes=(18,),\n",
       "                                    learning_rate='constant',\n",
       "                                    learning_rate_init=0.001, max_iter=20000,\n",
       "                                    momentum=0.7, n_iter_no_change=10,\n",
       "                                    nesterovs_momentum=True, power_t=0.5,\n",
       "                                    random_stat...\n",
       "                                    solver='adam', tol=0.0001,\n",
       "                                    validation_fraction=0.15, verbose=False,\n",
       "                                    warm_start=False),\n",
       "             iid='warn', n_jobs=-2,\n",
       "             param_grid={'activation': ['tanh', 'relu'],\n",
       "                         'alpha': [0.0001, 0.05],\n",
       "                         'hidden_layer_sizes': [(64, 64, 64), (128, 128, 128)],\n",
       "                         'learning_rate': ['constant', 'adaptive'],\n",
       "                         'solver': ['sgd', 'adam']},\n",
       "             pre_dispatch='2*n_jobs', refit=True, return_train_score=False,\n",
       "             scoring=None, verbose=0)"
      ]
     },
     "execution_count": 20,
     "metadata": {},
     "output_type": "execute_result"
    }
   ],
   "source": [
    "parameter_space = {\n",
    "    'hidden_layer_sizes': [(64,64,64),  (128,128,128)],\n",
    "    'activation': ['tanh', 'relu'],\n",
    "    'solver': ['sgd', 'adam'],\n",
    "    'alpha': [0.0001, 0.05],\n",
    "    'learning_rate': ['constant','adaptive'],\n",
    "}\n",
    "\n",
    "clf = GridSearchCV(mlp, parameter_space, n_jobs=-2, cv=3)\n",
    "clf.fit(X_train_PM10, y_train_PM10)"
   ]
  },
  {
   "cell_type": "code",
   "execution_count": 23,
   "metadata": {
    "ExecuteTime": {
     "end_time": "2020-01-29T10:23:02.381177Z",
     "start_time": "2020-01-29T10:23:02.366183Z"
    }
   },
   "outputs": [
    {
     "data": {
      "text/plain": [
       "{'activation': 'relu',\n",
       " 'alpha': 0.05,\n",
       " 'hidden_layer_sizes': (64, 64, 64),\n",
       " 'learning_rate': 'constant',\n",
       " 'solver': 'adam'}"
      ]
     },
     "execution_count": 23,
     "metadata": {},
     "output_type": "execute_result"
    }
   ],
   "source": [
    "keys=clf.best_params_\n",
    "keys"
   ]
  },
  {
   "cell_type": "code",
   "execution_count": 24,
   "metadata": {
    "ExecuteTime": {
     "end_time": "2020-01-29T10:23:05.436217Z",
     "start_time": "2020-01-29T10:23:05.428245Z"
    }
   },
   "outputs": [],
   "source": [
    "y_predict_PM10=clf.predict(X_test_PM10)"
   ]
  },
  {
   "cell_type": "code",
   "execution_count": 25,
   "metadata": {
    "ExecuteTime": {
     "end_time": "2020-01-29T10:23:06.339297Z",
     "start_time": "2020-01-29T10:23:06.332290Z"
    }
   },
   "outputs": [
    {
     "data": {
      "text/plain": [
       "0.24068474605805074"
      ]
     },
     "execution_count": 25,
     "metadata": {},
     "output_type": "execute_result"
    }
   ],
   "source": [
    "median_absolute_error(y_predict_PM10,y_test_PM10)"
   ]
  },
  {
   "cell_type": "code",
   "execution_count": null,
   "metadata": {},
   "outputs": [],
   "source": []
  }
 ],
 "metadata": {
  "hide_input": false,
  "kernelspec": {
   "display_name": "Python 3",
   "language": "python",
   "name": "python3"
  },
  "language_info": {
   "codemirror_mode": {
    "name": "ipython",
    "version": 3
   },
   "file_extension": ".py",
   "mimetype": "text/x-python",
   "name": "python",
   "nbconvert_exporter": "python",
   "pygments_lexer": "ipython3",
   "version": "3.7.3"
  },
  "latex_envs": {
   "LaTeX_envs_menu_present": true,
   "autoclose": false,
   "autocomplete": true,
   "bibliofile": "biblio.bib",
   "cite_by": "apalike",
   "current_citInitial": 1,
   "eqLabelWithNumbers": true,
   "eqNumInitial": 1,
   "hotkeys": {
    "equation": "Ctrl-E",
    "itemize": "Ctrl-I"
   },
   "labels_anchors": false,
   "latex_user_defs": false,
   "report_style_numbering": false,
   "user_envs_cfg": false
  },
  "nbTranslate": {
   "displayLangs": [
    "*"
   ],
   "hotkey": "alt-t",
   "langInMainMenu": true,
   "sourceLang": "en",
   "targetLang": "fr",
   "useGoogleTranslate": true
  },
  "toc": {
   "base_numbering": 1,
   "nav_menu": {},
   "number_sections": true,
   "sideBar": true,
   "skip_h1_title": false,
   "title_cell": "Table of Contents",
   "title_sidebar": "Contents",
   "toc_cell": false,
   "toc_position": {},
   "toc_section_display": true,
   "toc_window_display": false
  },
  "varInspector": {
   "cols": {
    "lenName": 16,
    "lenType": 16,
    "lenVar": 40
   },
   "kernels_config": {
    "python": {
     "delete_cmd_postfix": "",
     "delete_cmd_prefix": "del ",
     "library": "var_list.py",
     "varRefreshCmd": "print(var_dic_list())"
    },
    "r": {
     "delete_cmd_postfix": ") ",
     "delete_cmd_prefix": "rm(",
     "library": "var_list.r",
     "varRefreshCmd": "cat(var_dic_list()) "
    }
   },
   "types_to_exclude": [
    "module",
    "function",
    "builtin_function_or_method",
    "instance",
    "_Feature"
   ],
   "window_display": false
  }
 },
 "nbformat": 4,
 "nbformat_minor": 2
}
