{
 "cells": [
  {
   "cell_type": "markdown",
   "metadata": {},
   "source": [
    "## Prediction of Daily PM10 and PM2.5"
   ]
  },
  {
   "cell_type": "markdown",
   "metadata": {},
   "source": [
    "### Importing Data"
   ]
  },
  {
   "cell_type": "markdown",
   "metadata": {},
   "source": [
    "The particulate matter data show some differences each other, on one hand the PM2.5 present fewer input variables as well some different type of variables if we compare these data with PM10."
   ]
  },
  {
   "cell_type": "code",
   "execution_count": 1,
   "metadata": {
    "ExecuteTime": {
     "end_time": "2020-02-18T08:50:00.985371Z",
     "start_time": "2020-02-18T08:49:59.074102Z"
    },
    "code_folding": [],
    "run_control": {
     "marked": false
    }
   },
   "outputs": [],
   "source": [
    "#Libraries\n",
    "import pandas as pd\n",
    "import numpy as np\n",
    "\n",
    "import matplotlib.pyplot as plt\n",
    "\n",
    "from scipy.io import loadmat\n",
    "\n",
    "from sklearn import preprocessing, linear_model\n",
    "from sklearn.model_selection import train_test_split, GridSearchCV\n",
    "\n",
    "from sklearn.neural_network import MLPRegressor\n",
    "\n",
    "from sklearn.metrics import max_error, median_absolute_error, mean_squared_error, r2_score\n",
    "from sklearn.model_selection import train_test_split\n",
    "\n",
    "\n",
    "from statsmodels.tsa.seasonal import seasonal_decompose\n",
    "\n",
    "import pylab\n",
    "import scipy.stats as stats"
   ]
  },
  {
   "cell_type": "code",
   "execution_count": 2,
   "metadata": {
    "ExecuteTime": {
     "end_time": "2020-02-18T08:50:00.995822Z",
     "start_time": "2020-02-18T08:50:00.987335Z"
    },
    "code_folding": [
     0,
     6
    ],
    "run_control": {
     "marked": true
    },
    "scrolled": true
   },
   "outputs": [],
   "source": [
    "def mean_absolute_percentage_error(y_true, y_pred): \n",
    "    #y_true, y_pred = check_arrays(y_true, y_pred)\n",
    "    ## Note: does not handle mix 1d representation\n",
    "    #if _is_1d(y_true): \n",
    "    #    y_true, y_pred = _check_1d_array(y_true, y_pred)\n",
    "    return np.mean(np.abs((y_true - y_pred) / y_true)) * 100\n",
    "def read_files_PM():\n",
    "    #Reading data and naming Columns\n",
    "    PM25data=pd.read_csv(\"PRSA_data_2010.1.1-2014.12.31.csv\")\n",
    "    PM10data=loadmat('data_Polish.mat')\n",
    "    PM10data=pd.DataFrame.from_dict(PM10data['x'])\n",
    "    PM10data.columns = ['PM_10','SO2','NO_2','OZON','WIND_SPEED', 'WIND_DIR', 'TEMP', 'PROM_SLON', 'WILGOT', 'WIND_X', 'WIND_Y']\n",
    "    return PM25data, PM10data "
   ]
  },
  {
   "cell_type": "markdown",
   "metadata": {},
   "source": [
    "### NAN Values in datasets "
   ]
  },
  {
   "cell_type": "markdown",
   "metadata": {},
   "source": [
    "There are some NaN numbers in the PM2.5 data, it can be seen in the following two cells. On possible way may be to interpolate the missing values with the known ones and ensure all dataset will have defined values.The interpolation is then carried out, nevertheless, the first 24 data points are still missing, thus they are removed completely."
   ]
  },
  {
   "cell_type": "code",
   "execution_count": 3,
   "metadata": {
    "ExecuteTime": {
     "end_time": "2020-02-18T08:50:01.140170Z",
     "start_time": "2020-02-18T08:50:00.998814Z"
    },
    "code_folding": [
     0
    ],
    "run_control": {
     "marked": true
    },
    "scrolled": true
   },
   "outputs": [],
   "source": [
    "#Interpolation and removing NAN Values from PM2.5 data, new data index is set. \n",
    "PM25data, PM10data =read_files_PM()\n",
    "PM25_interpolate=PM25data['pm2.5'].fillna(method='ffill')\n",
    "PM25data_clean=PM25data\n",
    "PM25data_clean['pm2.5']=PM25_interpolate\n",
    "PM25data_clean=PM25data_clean[24:]\n",
    "i_PM10 = pd.date_range('2006-01-01', periods=len(PM10data), freq='H')\n",
    "PM10data.index=i_PM10\n",
    "PM25data_clean=PM25data_clean.set_index(['year', 'month','day','hour'])\n",
    "PM25data=PM25data_clean\n",
    "PM25data.drop(['No'], axis=1, inplace=True)\n",
    "PM25data['new_idx']=pd.to_datetime(PM25data.index.to_frame())\n",
    "PM25data.set_index('new_idx', inplace=True)"
   ]
  },
  {
   "cell_type": "code",
   "execution_count": 4,
   "metadata": {
    "ExecuteTime": {
     "end_time": "2020-02-18T08:50:01.156830Z",
     "start_time": "2020-02-18T08:50:01.142748Z"
    }
   },
   "outputs": [],
   "source": [
    "#result = seasonal_decompose(PM10data['TEMP'])\n",
    "#fig = result.plot()"
   ]
  },
  {
   "cell_type": "markdown",
   "metadata": {},
   "source": [
    "### Creating Daily Regressors"
   ]
  },
  {
   "cell_type": "markdown",
   "metadata": {},
   "source": [
    "The daily regressors are now generated calculating the mean of each variable every 24 hours, the vales from non numeric variables are removed from the newly created dataframe. The boxplots show higher variability in the PM2.5 data, in both data however, several outliers points appear. Then, the datasets are scaled in order to have be processed by the models. "
   ]
  },
  {
   "cell_type": "code",
   "execution_count": 5,
   "metadata": {
    "ExecuteTime": {
     "end_time": "2020-02-18T08:50:01.185643Z",
     "start_time": "2020-02-18T08:50:01.156830Z"
    }
   },
   "outputs": [],
   "source": [
    "#Minimum and maximum->\n",
    "Max_PM25=PM10data.resample('d').max()\n",
    "Min_PM25=PM10data.resample('d').min()\n",
    "\n",
    "#Means-> \n",
    "PM25_daily=PM25data.resample('d').mean()\n",
    "PM10_daily=PM10data.resample('d').mean()"
   ]
  },
  {
   "cell_type": "code",
   "execution_count": 6,
   "metadata": {
    "ExecuteTime": {
     "end_time": "2020-02-18T08:50:01.193591Z",
     "start_time": "2020-02-18T08:50:01.186596Z"
    }
   },
   "outputs": [],
   "source": [
    "X_PM10=PM10_daily[['SO2', 'NO_2', 'OZON', 'WIND_SPEED', 'WIND_DIR', 'TEMP','PROM_SLON', 'WILGOT', 'WIND_X', 'WIND_Y']]\n",
    "y_PM10=PM10_daily[['PM_10']]"
   ]
  },
  {
   "cell_type": "code",
   "execution_count": 7,
   "metadata": {
    "ExecuteTime": {
     "end_time": "2020-02-18T08:50:01.202587Z",
     "start_time": "2020-02-18T08:50:01.195583Z"
    }
   },
   "outputs": [],
   "source": [
    "X_PM25=PM25_daily[['DEWP', 'TEMP', 'PRES', 'Iws', 'Is']] #cbwd,Ir discarded \n",
    "y_PM25=PM25_daily[['pm2.5']]"
   ]
  },
  {
   "cell_type": "code",
   "execution_count": 8,
   "metadata": {
    "ExecuteTime": {
     "end_time": "2020-02-18T08:50:01.221534Z",
     "start_time": "2020-02-18T08:50:01.205545Z"
    },
    "code_folding": []
   },
   "outputs": [],
   "source": [
    "#Discarding first day of PM and last day of Meteorological var\n",
    "y_PM25=y_PM25.drop(y_PM25.head(1).index)\n",
    "X_PM25=X_PM25.drop(X_PM25.tail(1).index)\n",
    "y_PM10=y_PM10.drop(y_PM10.head(1).index)\n",
    "X_PM10=X_PM10.drop(X_PM10.tail(1).index)"
   ]
  },
  {
   "cell_type": "code",
   "execution_count": 9,
   "metadata": {
    "ExecuteTime": {
     "end_time": "2020-02-18T08:50:01.231476Z",
     "start_time": "2020-02-18T08:50:01.224504Z"
    },
    "code_folding": [],
    "run_control": {
     "marked": true
    }
   },
   "outputs": [],
   "source": [
    "#Standardization of data\n",
    "def scaling_PMs(X_PM10, y_PM10, X_PM25, y_PM25):  \n",
    "    scaler_X_PM10 = preprocessing.StandardScaler().fit(X_PM10.values)\n",
    "    scaler_X_PM25 = preprocessing.StandardScaler().fit(X_PM25.values)\n",
    "    scaler_y_PM10 = preprocessing.StandardScaler().fit(y_PM10.values.reshape(-1, 1) )\n",
    "    scaler_y_PM25 = preprocessing.StandardScaler().fit(y_PM25.values.reshape(-1, 1) )\n",
    "    #Other type of normalization=>\n",
    "    #MinMaxScaler #minmax_scale #MaxAbsScaler #StandardScaler #RobustScaler \n",
    "    #Normalizer #QuantileTransformer #PowerTransformer\n",
    "    X_PM10_scaled=scaler_X_PM10.transform(X_PM10)\n",
    "    X_PM25_scaled=scaler_X_PM25.transform(X_PM25)\n",
    "    y_PM10_scaled=scaler_y_PM10.transform(y_PM10.values.reshape(-1,1))\n",
    "    y_PM25_scaled=scaler_y_PM25.transform(y_PM25.values.reshape(-1,1))\n",
    "    return X_PM10_scaled,y_PM10_scaled, X_PM25_scaled, y_PM25_scaled, scaler_X_PM10, scaler_y_PM10, scaler_X_PM25, scaler_y_PM25"
   ]
  },
  {
   "cell_type": "code",
   "execution_count": 10,
   "metadata": {
    "ExecuteTime": {
     "end_time": "2020-02-18T08:50:01.247538Z",
     "start_time": "2020-02-18T08:50:01.235466Z"
    },
    "code_folding": [],
    "run_control": {
     "marked": true
    }
   },
   "outputs": [],
   "source": [
    "X_PM10_scaled,y_PM10_scaled, X_PM25_scaled, y_PM25_scaled, scaler_X_PM10, scaler_y_PM10, scaler_X_PM25, scaler_y_PM25=scaling_PMs(X_PM10, y_PM10, X_PM25, y_PM25)"
   ]
  },
  {
   "cell_type": "code",
   "execution_count": 11,
   "metadata": {
    "ExecuteTime": {
     "end_time": "2020-02-18T08:50:01.487900Z",
     "start_time": "2020-02-18T08:50:01.250530Z"
    },
    "code_folding": [],
    "run_control": {
     "marked": false
    }
   },
   "outputs": [
    {
     "data": {
      "image/png": "[encoded data removed]",
      "text/plain": [
       "<Figure size 432x288 with 2 Axes>"
      ]
     },
     "metadata": {
      "needs_background": "light"
     },
     "output_type": "display_data"
    }
   ],
   "source": [
    "#Boxplots of Daily PMs\n",
    "PM10_daily=PM10data.resample('d').mean()\n",
    "PM25_daily=PM25data.resample('d').mean()\n",
    "\n",
    "fig, axs = plt.subplots(1,2)\n",
    "boxplot1 = PM10_daily.boxplot(column=['PM_10'], ax=axs[0])\n",
    "stats.probplot(y_PM10['PM_10'], dist=\"norm\", plot=axs[1])\n",
    "pylab.show()"
   ]
  },
  {
   "cell_type": "code",
   "execution_count": 12,
   "metadata": {
    "ExecuteTime": {
     "end_time": "2020-02-18T08:50:01.697366Z",
     "start_time": "2020-02-18T08:50:01.489895Z"
    }
   },
   "outputs": [
    {
     "data": {
      "image/png": "[encoded data removed]",
      "text/plain": [
       "<Figure size 432x288 with 2 Axes>"
      ]
     },
     "metadata": {
      "needs_background": "light"
     },
     "output_type": "display_data"
    }
   ],
   "source": [
    "fig, axs = plt.subplots(1,2)\n",
    "PM25_daily.boxplot(column=['pm2.5'], ax=axs[0])\n",
    "stats.probplot(y_PM25['pm2.5'], dist=\"norm\", plot=axs[1])\n",
    "pylab.show()"
   ]
  },
  {
   "cell_type": "markdown",
   "metadata": {},
   "source": [
    "### Splitting data into Training and Testing samples - Cross-Validation"
   ]
  },
  {
   "cell_type": "markdown",
   "metadata": {},
   "source": [
    "The data is split leaving some part out of the process, this part will be used to evualuate the performance of predictions. It is usually selected arround 70% or 80% of samples for learning the model."
   ]
  },
  {
   "cell_type": "code",
   "execution_count": 13,
   "metadata": {
    "ExecuteTime": {
     "end_time": "2020-02-18T08:50:01.703350Z",
     "start_time": "2020-02-18T08:50:01.699360Z"
    },
    "code_folding": []
   },
   "outputs": [],
   "source": [
    "#Percentage of Testing Data, Remainder is training data\n",
    "splitter_PM10=0.10 \n",
    "splitter_PM25=0.10"
   ]
  },
  {
   "cell_type": "code",
   "execution_count": 14,
   "metadata": {
    "ExecuteTime": {
     "end_time": "2020-02-18T08:50:01.722938Z",
     "start_time": "2020-02-18T08:50:01.705344Z"
    },
    "code_folding": []
   },
   "outputs": [],
   "source": [
    "#Splitting training and testing\n",
    "X_train_PM10, X_test_PM10, y_train_PM10, y_test_PM10 = train_test_split(X_PM10_scaled, y_PM10_scaled, test_size=splitter_PM10, shuffle='True')\n",
    "X_train_PM25, X_test_PM25, y_train_PM25, y_test_PM25 = train_test_split(X_PM25_scaled, y_PM25_scaled, test_size=splitter_PM25, shuffle='True')"
   ]
  },
  {
   "cell_type": "code",
   "execution_count": 15,
   "metadata": {
    "ExecuteTime": {
     "end_time": "2020-02-18T08:50:02.526834Z",
     "start_time": "2020-02-18T08:50:01.725440Z"
    },
    "code_folding": [],
    "run_control": {
     "marked": false
    }
   },
   "outputs": [],
   "source": [
    "#PM10 MLP\n",
    "mlp_nn = MLPRegressor(hidden_layer_sizes=(32,16,16), activation='tanh', solver='lbfgs')\n",
    "mlp_nn.fit(X_train_PM10, y_train_PM10.reshape(len(y_train_PM10),))\n",
    "\n",
    "y_predict_train_PM10=mlp_nn.predict(X_train_PM10)\n",
    "y_predict_test_PM10=mlp_nn.predict(X_test_PM10)\n",
    "\n",
    "#Descalating outputs\n",
    "y_predict_train_PM10_descaled=scaler_y_PM10.inverse_transform(y_predict_train_PM10)\n",
    "y_train_PM10_descaled=scaler_y_PM10.inverse_transform(y_train_PM10)\n",
    "\n",
    "y_predict_test_PM10_descaled=scaler_y_PM10.inverse_transform(y_predict_test_PM10)\n",
    "y_test_PM10_descaled=scaler_y_PM10.inverse_transform(y_test_PM10)"
   ]
  },
  {
   "cell_type": "code",
   "execution_count": 16,
   "metadata": {
    "ExecuteTime": {
     "end_time": "2020-02-18T08:50:03.540137Z",
     "start_time": "2020-02-18T08:50:02.529826Z"
    },
    "code_folding": [],
    "run_control": {
     "marked": true
    }
   },
   "outputs": [],
   "source": [
    "#PM25 MLP\n",
    "mlp_nn_PM25 = MLPRegressor(hidden_layer_sizes=(32,16,16), activation='tanh', solver='lbfgs')\n",
    "mlp_nn_PM25.fit(X_train_PM25, y_train_PM25.reshape(len(y_train_PM25),))\n",
    "\n",
    "y_predict_train_PM25=mlp_nn_PM25.predict(X_train_PM25)\n",
    "y_predict_test_PM25=mlp_nn_PM25.predict(X_test_PM25)\n",
    "\n",
    "#Descalating outputs\n",
    "y_predict_train_PM25_descaled=scaler_y_PM25.inverse_transform(y_predict_train_PM25)\n",
    "y_train_PM25_descaled=scaler_y_PM25.inverse_transform(y_train_PM25)\n",
    "y_predict_test_PM25_descaled=scaler_y_PM25.inverse_transform(y_predict_test_PM25)\n",
    "y_test_PM25_descaled=scaler_y_PM25.inverse_transform(y_test_PM25)"
   ]
  },
  {
   "cell_type": "code",
   "execution_count": 17,
   "metadata": {
    "ExecuteTime": {
     "end_time": "2020-02-18T08:50:03.555340Z",
     "start_time": "2020-02-18T08:50:03.541661Z"
    },
    "code_folding": [
     0,
     12
    ],
    "run_control": {
     "marked": true
    }
   },
   "outputs": [],
   "source": [
    "def Wrap_Performance():\n",
    "    lst=np.array([\"Model\",\"Layers\",\"Optimization\",\"MAE_Train(ug/m3)\",\"MAE_Test(ug/m3)\", \"MAPE_Train(%)\",\"MAPE_Test(%)\"])\n",
    "    Performance_PM10=pd.DataFrame(columns=lst)\n",
    "    Performance_PM10[\"Model\"]=[\"MLP_Regressor\"]\n",
    "    Performance_PM10[\"Layers\"]=str(mlp_nn.hidden_layer_sizes)\n",
    "    Performance_PM10[\"Optimization\"]=[\"None\"]  \n",
    "    Performance_PM10[\"MAE_Train(ug/m3)\"]=median_absolute_error(y_predict_train_PM10_descaled,y_train_PM10_descaled)\n",
    "    Performance_PM10[\"MAE_Test(ug/m3)\"]=median_absolute_error(y_predict_test_PM10_descaled,y_test_PM10_descaled)\n",
    "    Performance_PM10[\"MAPE_Train(%)\"]=mean_absolute_percentage_error(y_predict_train_PM10_descaled,y_train_PM10_descaled)\n",
    "    Performance_PM10[\"MAPE_Test(%)\"]=mean_absolute_percentage_error(y_predict_test_PM10_descaled,y_test_PM10_descaled)\n",
    "    return Performance_PM10\n",
    "\n",
    "def Wrap_Performance_PM25():\n",
    "    lst=np.array([\"Model\",\"Layers\",\"Optimization\",\"MAE_Train(ug/m3)\",\"MAE_Test(ug/m3)\", \"MAPE_Train(%)\",\"MAPE_Test(%)\"])\n",
    "    Performance_PM25=pd.DataFrame(columns=lst)\n",
    "    Performance_PM25[\"Model\"]=[\"MLP_Regressor\"]\n",
    "    Performance_PM25[\"Layers\"]=str(mlp_nn_PM25.hidden_layer_sizes)\n",
    "    Performance_PM25[\"Optimization\"]=[\"None\"]\n",
    "    Performance_PM25[\"MAE_Train(ug/m3)\"]=median_absolute_error(y_predict_train_PM25_descaled,y_train_PM25_descaled)\n",
    "    Performance_PM25[\"MAE_Test(ug/m3)\"]=median_absolute_error(y_predict_test_PM25_descaled,y_test_PM25_descaled)\n",
    "    Performance_PM25[\"MAPE_Train(%)\"]=mean_absolute_percentage_error(y_predict_train_PM25_descaled,y_train_PM25_descaled)\n",
    "    Performance_PM25[\"MAPE_Test(%)\"]=mean_absolute_percentage_error(y_predict_test_PM25_descaled,y_test_PM25_descaled)\n",
    "    return Performance_PM25"
   ]
  },
  {
   "cell_type": "code",
   "execution_count": 18,
   "metadata": {
    "ExecuteTime": {
     "end_time": "2020-02-18T08:50:03.622310Z",
     "start_time": "2020-02-18T08:50:03.556856Z"
    }
   },
   "outputs": [
    {
     "data": {
      "text/html": [
       "<div>\n",
       "<style scoped>\n",
       "    .dataframe tbody tr th:only-of-type {\n",
       "        vertical-align: middle;\n",
       "    }\n",
       "\n",
       "    .dataframe tbody tr th {\n",
       "        vertical-align: top;\n",
       "    }\n",
       "\n",
       "    .dataframe thead th {\n",
       "        text-align: right;\n",
       "    }\n",
       "</style>\n",
       "<table border=\"1\" class=\"dataframe\">\n",
       "  <thead>\n",
       "    <tr style=\"text-align: right;\">\n",
       "      <th></th>\n",
       "      <th>Model</th>\n",
       "      <th>Layers</th>\n",
       "      <th>Optimization</th>\n",
       "      <th>MAE_Train(ug/m3)</th>\n",
       "      <th>MAE_Test(ug/m3)</th>\n",
       "      <th>MAPE_Train(%)</th>\n",
       "      <th>MAPE_Test(%)</th>\n",
       "    </tr>\n",
       "  </thead>\n",
       "  <tbody>\n",
       "    <tr>\n",
       "      <th>0</th>\n",
       "      <td>MLP_Regressor</td>\n",
       "      <td>(32, 16, 16)</td>\n",
       "      <td>None</td>\n",
       "      <td>4.258265</td>\n",
       "      <td>10.436585</td>\n",
       "      <td>63.783969</td>\n",
       "      <td>71.497941</td>\n",
       "    </tr>\n",
       "  </tbody>\n",
       "</table>\n",
       "</div>"
      ],
      "text/plain": [
       "           Model        Layers Optimization  MAE_Train(ug/m3)  \\\n",
       "0  MLP_Regressor  (32, 16, 16)         None          4.258265   \n",
       "\n",
       "   MAE_Test(ug/m3)  MAPE_Train(%)  MAPE_Test(%)  \n",
       "0        10.436585      63.783969     71.497941  "
      ]
     },
     "execution_count": 18,
     "metadata": {},
     "output_type": "execute_result"
    }
   ],
   "source": [
    "Performance_PM10=Wrap_Performance()\n",
    "Performance_PM10"
   ]
  },
  {
   "cell_type": "code",
   "execution_count": 19,
   "metadata": {
    "ExecuteTime": {
     "end_time": "2020-02-18T08:50:03.702937Z",
     "start_time": "2020-02-18T08:50:03.625859Z"
    }
   },
   "outputs": [
    {
     "data": {
      "text/html": [
       "<div>\n",
       "<style scoped>\n",
       "    .dataframe tbody tr th:only-of-type {\n",
       "        vertical-align: middle;\n",
       "    }\n",
       "\n",
       "    .dataframe tbody tr th {\n",
       "        vertical-align: top;\n",
       "    }\n",
       "\n",
       "    .dataframe thead th {\n",
       "        text-align: right;\n",
       "    }\n",
       "</style>\n",
       "<table border=\"1\" class=\"dataframe\">\n",
       "  <thead>\n",
       "    <tr style=\"text-align: right;\">\n",
       "      <th></th>\n",
       "      <th>Model</th>\n",
       "      <th>Layers</th>\n",
       "      <th>Optimization</th>\n",
       "      <th>MAE_Train(ug/m3)</th>\n",
       "      <th>MAE_Test(ug/m3)</th>\n",
       "      <th>MAPE_Train(%)</th>\n",
       "      <th>MAPE_Test(%)</th>\n",
       "    </tr>\n",
       "  </thead>\n",
       "  <tbody>\n",
       "    <tr>\n",
       "      <th>0</th>\n",
       "      <td>MLP_Regressor</td>\n",
       "      <td>(32, 16, 16)</td>\n",
       "      <td>None</td>\n",
       "      <td>31.404695</td>\n",
       "      <td>38.815501</td>\n",
       "      <td>102.609799</td>\n",
       "      <td>89.849986</td>\n",
       "    </tr>\n",
       "  </tbody>\n",
       "</table>\n",
       "</div>"
      ],
      "text/plain": [
       "           Model        Layers Optimization  MAE_Train(ug/m3)  \\\n",
       "0  MLP_Regressor  (32, 16, 16)         None         31.404695   \n",
       "\n",
       "   MAE_Test(ug/m3)  MAPE_Train(%)  MAPE_Test(%)  \n",
       "0        38.815501     102.609799     89.849986  "
      ]
     },
     "execution_count": 19,
     "metadata": {},
     "output_type": "execute_result"
    }
   ],
   "source": [
    "Performance_PM25=Wrap_Performance_PM25()\n",
    "Performance_PM25"
   ]
  },
  {
   "cell_type": "code",
   "execution_count": null,
   "metadata": {},
   "outputs": [],
   "source": []
  },
  {
   "cell_type": "code",
   "execution_count": null,
   "metadata": {},
   "outputs": [],
   "source": []
  }
 ],
 "metadata": {
  "hide_input": false,
  "kernelspec": {
   "display_name": "Python 3",
   "language": "python",
   "name": "python3"
  },
  "language_info": {
   "codemirror_mode": {
    "name": "ipython",
    "version": 3
   },
   "file_extension": ".py",
   "mimetype": "text/x-python",
   "name": "python",
   "nbconvert_exporter": "python",
   "pygments_lexer": "ipython3",
   "version": "3.7.3"
  },
  "latex_envs": {
   "LaTeX_envs_menu_present": true,
   "autoclose": false,
   "autocomplete": true,
   "bibliofile": "biblio.bib",
   "cite_by": "apalike",
   "current_citInitial": 1,
   "eqLabelWithNumbers": true,
   "eqNumInitial": 1,
   "hotkeys": {
    "equation": "Ctrl-E",
    "itemize": "Ctrl-I"
   },
   "labels_anchors": false,
   "latex_user_defs": false,
   "report_style_numbering": false,
   "user_envs_cfg": false
  },
  "nbTranslate": {
   "displayLangs": [
    "*"
   ],
   "hotkey": "alt-t",
   "langInMainMenu": true,
   "sourceLang": "en",
   "targetLang": "fr",
   "useGoogleTranslate": true
  },
  "toc": {
   "base_numbering": 1,
   "nav_menu": {},
   "number_sections": true,
   "sideBar": true,
   "skip_h1_title": false,
   "title_cell": "Table of Contents",
   "title_sidebar": "Contents",
   "toc_cell": false,
   "toc_position": {},
   "toc_section_display": true,
   "toc_window_display": false
  },
  "varInspector": {
   "cols": {
    "lenName": 16,
    "lenType": 16,
    "lenVar": 40
   },
   "kernels_config": {
    "python": {
     "delete_cmd_postfix": "",
     "delete_cmd_prefix": "del ",
     "library": "var_list.py",
     "varRefreshCmd": "print(var_dic_list())"
    },
    "r": {
     "delete_cmd_postfix": ") ",
     "delete_cmd_prefix": "rm(",
     "library": "var_list.r",
     "varRefreshCmd": "cat(var_dic_list()) "
    }
   },
   "types_to_exclude": [
    "module",
    "function",
    "builtin_function_or_method",
    "instance",
    "_Feature"
   ],
   "window_display": false
  }
 },
 "nbformat": 4,
 "nbformat_minor": 2
}
