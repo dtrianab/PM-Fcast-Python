{
 "cells": [
  {
   "cell_type": "markdown",
   "metadata": {},
   "source": [
    "## Processing Input Data"
   ]
  },
  {
   "cell_type": "markdown",
   "metadata": {},
   "source": [
    "### Importing Data"
   ]
  },
  {
   "cell_type": "markdown",
   "metadata": {},
   "source": [
    "The particulate matter data show some differences each other, on one hand the PM2.5 present fewer input variables as well some different type of variables if we compare these data with PM10."
   ]
  },
  {
   "cell_type": "code",
   "execution_count": 18,
   "metadata": {
    "ExecuteTime": {
     "end_time": "2020-01-02T19:16:11.653215Z",
     "start_time": "2020-01-02T19:16:08.507491Z"
    }
   },
   "outputs": [],
   "source": [
    "import pandas as pd\n",
    "import numpy as np\n",
    "import matplotlib.pyplot as plt\n",
    "from scipy.io import loadmat\n",
    "from sklearn import preprocessing\n",
    "from sklearn.decomposition import PCA"
   ]
  },
  {
   "cell_type": "code",
   "execution_count": 2,
   "metadata": {
    "ExecuteTime": {
     "end_time": "2020-01-02T19:16:11.845164Z",
     "start_time": "2020-01-02T19:16:11.653215Z"
    },
    "scrolled": true
   },
   "outputs": [],
   "source": [
    "#Reading data and naming Columns\n",
    "PM25data=pd.read_csv(\"PRSA_data_2010.1.1-2014.12.31.csv\")\n",
    "PM10data=loadmat('data_Polish.mat')\n",
    "PM10data=pd.DataFrame.from_dict(PM10data['x'])\n",
    "PM10data.columns = ['PM_10','SO2','NO_2','OZON','WIND_SPEED', 'WIND_DIR', 'TEMP', 'PROM_SLON', 'WILGOT', 'WIND_X', 'WIND_Y']"
   ]
  },
  {
   "cell_type": "markdown",
   "metadata": {},
   "source": [
    "### NAN Values in datasets "
   ]
  },
  {
   "cell_type": "markdown",
   "metadata": {},
   "source": [
    "There are some NaN numbers in the PM2.5 data, it can be seen in the following two cells. On possible workarround may be to interpolate the missing values with the known ones and ensure all dataset will have defined values."
   ]
  },
  {
   "cell_type": "code",
   "execution_count": 3,
   "metadata": {
    "ExecuteTime": {
     "end_time": "2020-01-02T19:16:11.953137Z",
     "start_time": "2020-01-02T19:16:11.925144Z"
    }
   },
   "outputs": [
    {
     "data": {
      "text/plain": [
       "No          0\n",
       "year        0\n",
       "month       0\n",
       "day         0\n",
       "hour        0\n",
       "pm2.5    2067\n",
       "DEWP        0\n",
       "TEMP        0\n",
       "PRES        0\n",
       "cbwd        0\n",
       "Iws         0\n",
       "Is          0\n",
       "Ir          0\n",
       "dtype: int64"
      ]
     },
     "execution_count": 3,
     "metadata": {},
     "output_type": "execute_result"
    }
   ],
   "source": [
    "PM25data.isna().sum()"
   ]
  },
  {
   "cell_type": "code",
   "execution_count": 4,
   "metadata": {
    "ExecuteTime": {
     "end_time": "2020-01-02T19:16:11.977151Z",
     "start_time": "2020-01-02T19:16:11.953137Z"
    }
   },
   "outputs": [
    {
     "data": {
      "text/plain": [
       "PM_10         0\n",
       "SO2           0\n",
       "NO_2          0\n",
       "OZON          0\n",
       "WIND_SPEED    0\n",
       "WIND_DIR      0\n",
       "TEMP          0\n",
       "PROM_SLON     0\n",
       "WILGOT        0\n",
       "WIND_X        0\n",
       "WIND_Y        0\n",
       "dtype: int64"
      ]
     },
     "execution_count": 4,
     "metadata": {},
     "output_type": "execute_result"
    }
   ],
   "source": [
    "PM10data.isna().sum()"
   ]
  },
  {
   "cell_type": "markdown",
   "metadata": {},
   "source": [
    "The interpolation is then carried out, nevertheless, the first 24 data points are still missing, thus they are removed completly."
   ]
  },
  {
   "cell_type": "code",
   "execution_count": 5,
   "metadata": {
    "ExecuteTime": {
     "end_time": "2020-01-02T19:16:12.085104Z",
     "start_time": "2020-01-02T19:16:12.009123Z"
    },
    "scrolled": true
   },
   "outputs": [],
   "source": [
    "#Interpolation and removing NAN Values from PM2.5 data, new data index is set. \n",
    "PM25_interpolate=PM25data['pm2.5'].fillna(method='ffill')\n",
    "PM25data_clean=PM25data\n",
    "PM25data_clean['pm2.5']=PM25_interpolate\n",
    "PM25data_clean=PM25data_clean[24:]\n",
    "i_PM10 = pd.date_range('2006-01-01', periods=len(PM10data), freq='H')\n",
    "PM10data.index=i_PM10\n",
    "PM25data_clean=PM25data_clean.set_index(['year', 'month','day','hour'])\n",
    "PM25data=PM25data_clean\n",
    "PM25data.drop(['No'], axis=1, inplace=True)\n",
    "PM25data['new_idx']=pd.to_datetime(PM25data.index.to_frame())\n",
    "PM25data.set_index('new_idx', inplace=True)"
   ]
  },
  {
   "cell_type": "code",
   "execution_count": 6,
   "metadata": {},
   "outputs": [
    {
     "data": {
      "text/html": [
       "<div>\n",
       "<style scoped>\n",
       "    .dataframe tbody tr th:only-of-type {\n",
       "        vertical-align: middle;\n",
       "    }\n",
       "\n",
       "    .dataframe tbody tr th {\n",
       "        vertical-align: top;\n",
       "    }\n",
       "\n",
       "    .dataframe thead th {\n",
       "        text-align: right;\n",
       "    }\n",
       "</style>\n",
       "<table border=\"1\" class=\"dataframe\">\n",
       "  <thead>\n",
       "    <tr style=\"text-align: right;\">\n",
       "      <th></th>\n",
       "      <th>PM_10</th>\n",
       "      <th>SO2</th>\n",
       "      <th>NO_2</th>\n",
       "      <th>OZON</th>\n",
       "      <th>WIND_SPEED</th>\n",
       "      <th>WIND_DIR</th>\n",
       "      <th>TEMP</th>\n",
       "      <th>PROM_SLON</th>\n",
       "      <th>WILGOT</th>\n",
       "      <th>WIND_X</th>\n",
       "      <th>WIND_Y</th>\n",
       "    </tr>\n",
       "  </thead>\n",
       "  <tbody>\n",
       "    <tr>\n",
       "      <th>2006-01-01 00:00:00</th>\n",
       "      <td>9.1</td>\n",
       "      <td>19.0</td>\n",
       "      <td>18.5</td>\n",
       "      <td>28.1</td>\n",
       "      <td>1.68</td>\n",
       "      <td>314.0</td>\n",
       "      <td>-3.4</td>\n",
       "      <td>0.0</td>\n",
       "      <td>95.0</td>\n",
       "      <td>-0.266436</td>\n",
       "      <td>1.658738</td>\n",
       "    </tr>\n",
       "    <tr>\n",
       "      <th>2006-01-01 01:00:00</th>\n",
       "      <td>9.1</td>\n",
       "      <td>30.3</td>\n",
       "      <td>19.9</td>\n",
       "      <td>27.1</td>\n",
       "      <td>1.58</td>\n",
       "      <td>297.0</td>\n",
       "      <td>-3.5</td>\n",
       "      <td>0.0</td>\n",
       "      <td>94.0</td>\n",
       "      <td>1.568733</td>\n",
       "      <td>-0.188352</td>\n",
       "    </tr>\n",
       "    <tr>\n",
       "      <th>2006-01-01 02:00:00</th>\n",
       "      <td>9.1</td>\n",
       "      <td>9.3</td>\n",
       "      <td>8.6</td>\n",
       "      <td>39.6</td>\n",
       "      <td>1.40</td>\n",
       "      <td>263.0</td>\n",
       "      <td>-3.7</td>\n",
       "      <td>0.0</td>\n",
       "      <td>93.0</td>\n",
       "      <td>-1.091226</td>\n",
       "      <td>0.877055</td>\n",
       "    </tr>\n",
       "    <tr>\n",
       "      <th>2006-01-01 03:00:00</th>\n",
       "      <td>9.1</td>\n",
       "      <td>19.1</td>\n",
       "      <td>12.5</td>\n",
       "      <td>33.5</td>\n",
       "      <td>1.36</td>\n",
       "      <td>273.0</td>\n",
       "      <td>-4.0</td>\n",
       "      <td>0.0</td>\n",
       "      <td>94.0</td>\n",
       "      <td>0.425952</td>\n",
       "      <td>-1.291575</td>\n",
       "    </tr>\n",
       "    <tr>\n",
       "      <th>2006-01-01 04:00:00</th>\n",
       "      <td>9.1</td>\n",
       "      <td>22.4</td>\n",
       "      <td>16.1</td>\n",
       "      <td>32.2</td>\n",
       "      <td>1.32</td>\n",
       "      <td>252.0</td>\n",
       "      <td>-4.2</td>\n",
       "      <td>0.0</td>\n",
       "      <td>94.0</td>\n",
       "      <td>0.822376</td>\n",
       "      <td>1.032520</td>\n",
       "    </tr>\n",
       "    <tr>\n",
       "      <th>...</th>\n",
       "      <td>...</td>\n",
       "      <td>...</td>\n",
       "      <td>...</td>\n",
       "      <td>...</td>\n",
       "      <td>...</td>\n",
       "      <td>...</td>\n",
       "      <td>...</td>\n",
       "      <td>...</td>\n",
       "      <td>...</td>\n",
       "      <td>...</td>\n",
       "      <td>...</td>\n",
       "    </tr>\n",
       "    <tr>\n",
       "      <th>2010-03-15 10:00:00</th>\n",
       "      <td>22.7</td>\n",
       "      <td>2.5</td>\n",
       "      <td>9.5</td>\n",
       "      <td>49.9</td>\n",
       "      <td>1.70</td>\n",
       "      <td>214.0</td>\n",
       "      <td>12.2</td>\n",
       "      <td>2.0</td>\n",
       "      <td>99.0</td>\n",
       "      <td>0.617439</td>\n",
       "      <td>1.583909</td>\n",
       "    </tr>\n",
       "    <tr>\n",
       "      <th>2010-03-15 11:00:00</th>\n",
       "      <td>22.8</td>\n",
       "      <td>3.8</td>\n",
       "      <td>13.6</td>\n",
       "      <td>38.8</td>\n",
       "      <td>1.46</td>\n",
       "      <td>171.0</td>\n",
       "      <td>11.9</td>\n",
       "      <td>24.0</td>\n",
       "      <td>99.0</td>\n",
       "      <td>1.425823</td>\n",
       "      <td>0.314054</td>\n",
       "    </tr>\n",
       "    <tr>\n",
       "      <th>2010-03-15 12:00:00</th>\n",
       "      <td>26.8</td>\n",
       "      <td>4.9</td>\n",
       "      <td>17.8</td>\n",
       "      <td>35.8</td>\n",
       "      <td>1.35</td>\n",
       "      <td>281.0</td>\n",
       "      <td>12.0</td>\n",
       "      <td>60.0</td>\n",
       "      <td>99.0</td>\n",
       "      <td>-1.329954</td>\n",
       "      <td>-0.231778</td>\n",
       "    </tr>\n",
       "    <tr>\n",
       "      <th>2010-03-15 13:00:00</th>\n",
       "      <td>23.4</td>\n",
       "      <td>3.6</td>\n",
       "      <td>20.2</td>\n",
       "      <td>39.8</td>\n",
       "      <td>1.43</td>\n",
       "      <td>232.0</td>\n",
       "      <td>12.6</td>\n",
       "      <td>168.0</td>\n",
       "      <td>93.0</td>\n",
       "      <td>-0.657624</td>\n",
       "      <td>1.269815</td>\n",
       "    </tr>\n",
       "    <tr>\n",
       "      <th>2010-03-15 14:00:00</th>\n",
       "      <td>23.1</td>\n",
       "      <td>3.1</td>\n",
       "      <td>14.3</td>\n",
       "      <td>50.4</td>\n",
       "      <td>1.23</td>\n",
       "      <td>259.0</td>\n",
       "      <td>13.7</td>\n",
       "      <td>252.0</td>\n",
       "      <td>83.0</td>\n",
       "      <td>1.209820</td>\n",
       "      <td>0.221893</td>\n",
       "    </tr>\n",
       "  </tbody>\n",
       "</table>\n",
       "<p>36831 rows × 11 columns</p>\n",
       "</div>"
      ],
      "text/plain": [
       "                     PM_10   SO2  NO_2  OZON  WIND_SPEED  WIND_DIR  TEMP  \\\n",
       "2006-01-01 00:00:00    9.1  19.0  18.5  28.1        1.68     314.0  -3.4   \n",
       "2006-01-01 01:00:00    9.1  30.3  19.9  27.1        1.58     297.0  -3.5   \n",
       "2006-01-01 02:00:00    9.1   9.3   8.6  39.6        1.40     263.0  -3.7   \n",
       "2006-01-01 03:00:00    9.1  19.1  12.5  33.5        1.36     273.0  -4.0   \n",
       "2006-01-01 04:00:00    9.1  22.4  16.1  32.2        1.32     252.0  -4.2   \n",
       "...                    ...   ...   ...   ...         ...       ...   ...   \n",
       "2010-03-15 10:00:00   22.7   2.5   9.5  49.9        1.70     214.0  12.2   \n",
       "2010-03-15 11:00:00   22.8   3.8  13.6  38.8        1.46     171.0  11.9   \n",
       "2010-03-15 12:00:00   26.8   4.9  17.8  35.8        1.35     281.0  12.0   \n",
       "2010-03-15 13:00:00   23.4   3.6  20.2  39.8        1.43     232.0  12.6   \n",
       "2010-03-15 14:00:00   23.1   3.1  14.3  50.4        1.23     259.0  13.7   \n",
       "\n",
       "                     PROM_SLON  WILGOT    WIND_X    WIND_Y  \n",
       "2006-01-01 00:00:00        0.0    95.0 -0.266436  1.658738  \n",
       "2006-01-01 01:00:00        0.0    94.0  1.568733 -0.188352  \n",
       "2006-01-01 02:00:00        0.0    93.0 -1.091226  0.877055  \n",
       "2006-01-01 03:00:00        0.0    94.0  0.425952 -1.291575  \n",
       "2006-01-01 04:00:00        0.0    94.0  0.822376  1.032520  \n",
       "...                        ...     ...       ...       ...  \n",
       "2010-03-15 10:00:00        2.0    99.0  0.617439  1.583909  \n",
       "2010-03-15 11:00:00       24.0    99.0  1.425823  0.314054  \n",
       "2010-03-15 12:00:00       60.0    99.0 -1.329954 -0.231778  \n",
       "2010-03-15 13:00:00      168.0    93.0 -0.657624  1.269815  \n",
       "2010-03-15 14:00:00      252.0    83.0  1.209820  0.221893  \n",
       "\n",
       "[36831 rows x 11 columns]"
      ]
     },
     "execution_count": 6,
     "metadata": {},
     "output_type": "execute_result"
    }
   ],
   "source": [
    "PM10data"
   ]
  },
  {
   "cell_type": "code",
   "execution_count": 7,
   "metadata": {},
   "outputs": [
    {
     "data": {
      "text/html": [
       "<div>\n",
       "<style scoped>\n",
       "    .dataframe tbody tr th:only-of-type {\n",
       "        vertical-align: middle;\n",
       "    }\n",
       "\n",
       "    .dataframe tbody tr th {\n",
       "        vertical-align: top;\n",
       "    }\n",
       "\n",
       "    .dataframe thead th {\n",
       "        text-align: right;\n",
       "    }\n",
       "</style>\n",
       "<table border=\"1\" class=\"dataframe\">\n",
       "  <thead>\n",
       "    <tr style=\"text-align: right;\">\n",
       "      <th></th>\n",
       "      <th>pm2.5</th>\n",
       "      <th>DEWP</th>\n",
       "      <th>TEMP</th>\n",
       "      <th>PRES</th>\n",
       "      <th>cbwd</th>\n",
       "      <th>Iws</th>\n",
       "      <th>Is</th>\n",
       "      <th>Ir</th>\n",
       "    </tr>\n",
       "    <tr>\n",
       "      <th>new_idx</th>\n",
       "      <th></th>\n",
       "      <th></th>\n",
       "      <th></th>\n",
       "      <th></th>\n",
       "      <th></th>\n",
       "      <th></th>\n",
       "      <th></th>\n",
       "      <th></th>\n",
       "    </tr>\n",
       "  </thead>\n",
       "  <tbody>\n",
       "    <tr>\n",
       "      <th>2010-01-02 00:00:00</th>\n",
       "      <td>129.0</td>\n",
       "      <td>-16</td>\n",
       "      <td>-4.0</td>\n",
       "      <td>1020.0</td>\n",
       "      <td>SE</td>\n",
       "      <td>1.79</td>\n",
       "      <td>0</td>\n",
       "      <td>0</td>\n",
       "    </tr>\n",
       "    <tr>\n",
       "      <th>2010-01-02 01:00:00</th>\n",
       "      <td>148.0</td>\n",
       "      <td>-15</td>\n",
       "      <td>-4.0</td>\n",
       "      <td>1020.0</td>\n",
       "      <td>SE</td>\n",
       "      <td>2.68</td>\n",
       "      <td>0</td>\n",
       "      <td>0</td>\n",
       "    </tr>\n",
       "    <tr>\n",
       "      <th>2010-01-02 02:00:00</th>\n",
       "      <td>159.0</td>\n",
       "      <td>-11</td>\n",
       "      <td>-5.0</td>\n",
       "      <td>1021.0</td>\n",
       "      <td>SE</td>\n",
       "      <td>3.57</td>\n",
       "      <td>0</td>\n",
       "      <td>0</td>\n",
       "    </tr>\n",
       "    <tr>\n",
       "      <th>2010-01-02 03:00:00</th>\n",
       "      <td>181.0</td>\n",
       "      <td>-7</td>\n",
       "      <td>-5.0</td>\n",
       "      <td>1022.0</td>\n",
       "      <td>SE</td>\n",
       "      <td>5.36</td>\n",
       "      <td>1</td>\n",
       "      <td>0</td>\n",
       "    </tr>\n",
       "    <tr>\n",
       "      <th>2010-01-02 04:00:00</th>\n",
       "      <td>138.0</td>\n",
       "      <td>-7</td>\n",
       "      <td>-5.0</td>\n",
       "      <td>1022.0</td>\n",
       "      <td>SE</td>\n",
       "      <td>6.25</td>\n",
       "      <td>2</td>\n",
       "      <td>0</td>\n",
       "    </tr>\n",
       "    <tr>\n",
       "      <th>...</th>\n",
       "      <td>...</td>\n",
       "      <td>...</td>\n",
       "      <td>...</td>\n",
       "      <td>...</td>\n",
       "      <td>...</td>\n",
       "      <td>...</td>\n",
       "      <td>...</td>\n",
       "      <td>...</td>\n",
       "    </tr>\n",
       "    <tr>\n",
       "      <th>2014-12-31 19:00:00</th>\n",
       "      <td>8.0</td>\n",
       "      <td>-23</td>\n",
       "      <td>-2.0</td>\n",
       "      <td>1034.0</td>\n",
       "      <td>NW</td>\n",
       "      <td>231.97</td>\n",
       "      <td>0</td>\n",
       "      <td>0</td>\n",
       "    </tr>\n",
       "    <tr>\n",
       "      <th>2014-12-31 20:00:00</th>\n",
       "      <td>10.0</td>\n",
       "      <td>-22</td>\n",
       "      <td>-3.0</td>\n",
       "      <td>1034.0</td>\n",
       "      <td>NW</td>\n",
       "      <td>237.78</td>\n",
       "      <td>0</td>\n",
       "      <td>0</td>\n",
       "    </tr>\n",
       "    <tr>\n",
       "      <th>2014-12-31 21:00:00</th>\n",
       "      <td>10.0</td>\n",
       "      <td>-22</td>\n",
       "      <td>-3.0</td>\n",
       "      <td>1034.0</td>\n",
       "      <td>NW</td>\n",
       "      <td>242.70</td>\n",
       "      <td>0</td>\n",
       "      <td>0</td>\n",
       "    </tr>\n",
       "    <tr>\n",
       "      <th>2014-12-31 22:00:00</th>\n",
       "      <td>8.0</td>\n",
       "      <td>-22</td>\n",
       "      <td>-4.0</td>\n",
       "      <td>1034.0</td>\n",
       "      <td>NW</td>\n",
       "      <td>246.72</td>\n",
       "      <td>0</td>\n",
       "      <td>0</td>\n",
       "    </tr>\n",
       "    <tr>\n",
       "      <th>2014-12-31 23:00:00</th>\n",
       "      <td>12.0</td>\n",
       "      <td>-21</td>\n",
       "      <td>-3.0</td>\n",
       "      <td>1034.0</td>\n",
       "      <td>NW</td>\n",
       "      <td>249.85</td>\n",
       "      <td>0</td>\n",
       "      <td>0</td>\n",
       "    </tr>\n",
       "  </tbody>\n",
       "</table>\n",
       "<p>43800 rows × 8 columns</p>\n",
       "</div>"
      ],
      "text/plain": [
       "                     pm2.5  DEWP  TEMP    PRES cbwd     Iws  Is  Ir\n",
       "new_idx                                                            \n",
       "2010-01-02 00:00:00  129.0   -16  -4.0  1020.0   SE    1.79   0   0\n",
       "2010-01-02 01:00:00  148.0   -15  -4.0  1020.0   SE    2.68   0   0\n",
       "2010-01-02 02:00:00  159.0   -11  -5.0  1021.0   SE    3.57   0   0\n",
       "2010-01-02 03:00:00  181.0    -7  -5.0  1022.0   SE    5.36   1   0\n",
       "2010-01-02 04:00:00  138.0    -7  -5.0  1022.0   SE    6.25   2   0\n",
       "...                    ...   ...   ...     ...  ...     ...  ..  ..\n",
       "2014-12-31 19:00:00    8.0   -23  -2.0  1034.0   NW  231.97   0   0\n",
       "2014-12-31 20:00:00   10.0   -22  -3.0  1034.0   NW  237.78   0   0\n",
       "2014-12-31 21:00:00   10.0   -22  -3.0  1034.0   NW  242.70   0   0\n",
       "2014-12-31 22:00:00    8.0   -22  -4.0  1034.0   NW  246.72   0   0\n",
       "2014-12-31 23:00:00   12.0   -21  -3.0  1034.0   NW  249.85   0   0\n",
       "\n",
       "[43800 rows x 8 columns]"
      ]
     },
     "execution_count": 7,
     "metadata": {},
     "output_type": "execute_result"
    }
   ],
   "source": [
    "PM25data"
   ]
  },
  {
   "cell_type": "markdown",
   "metadata": {},
   "source": [
    "### Creating Daily Regressors"
   ]
  },
  {
   "cell_type": "markdown",
   "metadata": {},
   "source": [
    "The daily regressors are now generated calculating the mean of each variable every 24 hours, the vales from non numeric variables are removed from the newly created dataframe. The boxplots show higher variability in the PM2.5 data, in both data however, several outliers points appear."
   ]
  },
  {
   "cell_type": "code",
   "execution_count": 8,
   "metadata": {
    "scrolled": true
   },
   "outputs": [
    {
     "data": {
      "image/png": "[encoded data removed]",
      "text/plain": [
       "<Figure size 432x288 with 2 Axes>"
      ]
     },
     "metadata": {
      "needs_background": "light"
     },
     "output_type": "display_data"
    }
   ],
   "source": [
    "PM10_daily=PM10data.resample('d').mean()\n",
    "PM25_daily=PM25data.resample('d').mean()\n",
    "fig, axs = plt.subplots(1,2)\n",
    "boxplot1 = PM10_daily.boxplot(column=['PM_10'], ax=axs[0])\n",
    "boxplot2 = PM25_daily.boxplot(column=['pm2.5'], ax=axs[1])"
   ]
  },
  {
   "cell_type": "code",
   "execution_count": 17,
   "metadata": {},
   "outputs": [],
   "source": [
    "#Standardization of data\n",
    "X_PM10=PM10_daily.values\n",
    "X_PM25=PM25_daily.values\n",
    "scaler_X_PM10 = preprocessing.StandardScaler().fit(X_PM10)\n",
    "scaler_X_PM25 = preprocessing.StandardScaler().fit(X_PM25)\n",
    "\n",
    "#Other type of normalization=>\n",
    "\n",
    "#MinMaxScaler\n",
    "#minmax_scale\n",
    "#MaxAbsScaler\n",
    "#StandardScaler\n",
    "#RobustScaler\n",
    "#Normalizer\n",
    "#QuantileTransformer\n",
    "#PowerTransformer\n",
    "\n",
    "X_PM10_scaled=scaler_X_PM10.transform(X_PM10)\n",
    "X_PM25_scaled=scaler_X_PM25.transform(X_PM25)"
   ]
  },
  {
   "cell_type": "code",
   "execution_count": 61,
   "metadata": {},
   "outputs": [
    {
     "data": {
      "text/plain": [
       "array([[-0.90816039,  0.98243078, -0.36335633, -0.32615023,  0.92411938,\n",
       "         1.73190552, -2.03625402, -1.11475555,  0.36898616,  0.46936656,\n",
       "        -2.08398497],\n",
       "       [ 1.20758202,  1.9987331 ,  1.12301596, -0.93874448, -1.34842715,\n",
       "         0.96279176, -2.32718861, -1.0145761 ,  0.59927906,  0.25061058,\n",
       "        -0.19237736],\n",
       "       [ 0.35555275,  0.87579382,  1.06385323, -0.87626135, -0.28335835,\n",
       "         2.10944494, -2.0496744 , -1.13835338,  0.97587569,  0.23135213,\n",
       "        -1.23606652],\n",
       "       [ 1.00434568,  2.05920406,  1.5963178 , -0.9559876 , -0.41227589,\n",
       "         0.6119187 , -1.92218082, -1.16684887,  1.39040292,  0.47671896,\n",
       "         0.30909961],\n",
       "       [ 1.30418943,  2.39992218,  0.37289098, -0.67045638,  0.0127023 ,\n",
       "        -1.55928384, -2.17381288, -1.05197643,  1.28744845, -0.94055462,\n",
       "        -1.05839687],\n",
       "       [-0.41149407,  3.50010357, -0.31697567, -0.11311428,  0.8304293 ,\n",
       "        -1.5206878 , -2.22701508, -1.17174653,  1.08966748,  0.11321827,\n",
       "        -0.53501954],\n",
       "       [ 2.3135565 ,  1.72368775,  0.23046218, -0.39753304,  0.33724473,\n",
       "        -1.77822863, -2.12444507, -1.08314337,  0.88646786,  0.8316152 ,\n",
       "        -1.73198221],\n",
       "       [ 1.41602955,  1.54617621,  0.91119878, -0.90129168, -0.36730466,\n",
       "         1.83786919, -1.79372865, -1.25010912,  1.05444621, -1.56921078,\n",
       "        -0.23089998],\n",
       "       [ 0.39022719,  1.64956205, -0.26584738, -0.14111117,  0.41444535,\n",
       "        -1.06385107, -1.709372  , -1.24120428,  1.07883017,  0.69733147,\n",
       "         0.25477311],\n",
       "       [-0.58065725,  0.75550211,  1.17523985, -0.81581773, -0.0052862 ,\n",
       "        -0.67297847, -0.96214462, -1.22740178,  1.51774135,  1.4993275 ,\n",
       "        -1.07619001]])"
      ]
     },
     "execution_count": 61,
     "metadata": {},
     "output_type": "execute_result"
    }
   ],
   "source": [
    "X_PM10_scaled[:][1:np.size(X_PM10_scaled,1)]"
   ]
  },
  {
   "cell_type": "code",
   "execution_count": 20,
   "metadata": {},
   "outputs": [
    {
     "ename": "NameError",
     "evalue": "name 'df' is not defined",
     "output_type": "error",
     "traceback": [
      "\u001b[0;31m---------------------------------------------------------------------------\u001b[0m",
      "\u001b[0;31mNameError\u001b[0m                                 Traceback (most recent call last)",
      "\u001b[0;32m<ipython-input-20-e1d6f6204c8a>\u001b[0m in \u001b[0;36m<module>\u001b[0;34m\u001b[0m\n\u001b[1;32m      2\u001b[0m \u001b[0mprincipalComponents\u001b[0m \u001b[0;34m=\u001b[0m \u001b[0mpca\u001b[0m\u001b[0;34m.\u001b[0m\u001b[0mfit_transform\u001b[0m\u001b[0;34m(\u001b[0m\u001b[0mX_PM10_scaled\u001b[0m\u001b[0;34m)\u001b[0m\u001b[0;34m\u001b[0m\u001b[0;34m\u001b[0m\u001b[0m\n\u001b[1;32m      3\u001b[0m \u001b[0mprincipalDf\u001b[0m \u001b[0;34m=\u001b[0m \u001b[0mpd\u001b[0m\u001b[0;34m.\u001b[0m\u001b[0mDataFrame\u001b[0m\u001b[0;34m(\u001b[0m\u001b[0mdata\u001b[0m \u001b[0;34m=\u001b[0m \u001b[0mprincipalComponents\u001b[0m\u001b[0;34m,\u001b[0m \u001b[0mcolumns\u001b[0m \u001b[0;34m=\u001b[0m \u001b[0;34m[\u001b[0m\u001b[0;34m'principal component 1'\u001b[0m\u001b[0;34m,\u001b[0m \u001b[0;34m'principal component 2'\u001b[0m\u001b[0;34m]\u001b[0m\u001b[0;34m)\u001b[0m\u001b[0;34m\u001b[0m\u001b[0;34m\u001b[0m\u001b[0m\n\u001b[0;32m----> 4\u001b[0;31m \u001b[0mfinalDf\u001b[0m \u001b[0;34m=\u001b[0m \u001b[0mpd\u001b[0m\u001b[0;34m.\u001b[0m\u001b[0mconcat\u001b[0m\u001b[0;34m(\u001b[0m\u001b[0;34m[\u001b[0m\u001b[0mprincipalDf\u001b[0m\u001b[0;34m,\u001b[0m \u001b[0mdf\u001b[0m\u001b[0;34m[\u001b[0m\u001b[0;34m[\u001b[0m\u001b[0;34m'target'\u001b[0m\u001b[0;34m]\u001b[0m\u001b[0;34m]\u001b[0m\u001b[0;34m]\u001b[0m\u001b[0;34m,\u001b[0m \u001b[0maxis\u001b[0m \u001b[0;34m=\u001b[0m \u001b[0;36m1\u001b[0m\u001b[0;34m)\u001b[0m\u001b[0;34m\u001b[0m\u001b[0;34m\u001b[0m\u001b[0m\n\u001b[0m",
      "\u001b[0;31mNameError\u001b[0m: name 'df' is not defined"
     ]
    }
   ],
   "source": [
    "pca = PCA(n_components=2)\n",
    "principalComponents = pca.fit_transform(X_PM10_scaled)\n",
    "principalDf = pd.DataFrame(data = principalComponents, columns = ['principal component 1', 'principal component 2'])"
   ]
  },
  {
   "cell_type": "code",
   "execution_count": null,
   "metadata": {},
   "outputs": [],
   "source": []
  }
 ],
 "metadata": {
  "hide_input": false,
  "kernelspec": {
   "display_name": "Python 3",
   "language": "python",
   "name": "python3"
  },
  "language_info": {
   "codemirror_mode": {
    "name": "ipython",
    "version": 3
   },
   "file_extension": ".py",
   "mimetype": "text/x-python",
   "name": "python",
   "nbconvert_exporter": "python",
   "pygments_lexer": "ipython3",
   "version": "3.7.5"
  },
  "latex_envs": {
   "LaTeX_envs_menu_present": true,
   "autoclose": false,
   "autocomplete": true,
   "bibliofile": "biblio.bib",
   "cite_by": "apalike",
   "current_citInitial": 1,
   "eqLabelWithNumbers": true,
   "eqNumInitial": 1,
   "hotkeys": {
    "equation": "Ctrl-E",
    "itemize": "Ctrl-I"
   },
   "labels_anchors": false,
   "latex_user_defs": false,
   "report_style_numbering": false,
   "user_envs_cfg": false
  },
  "nbTranslate": {
   "displayLangs": [
    "*"
   ],
   "hotkey": "alt-t",
   "langInMainMenu": true,
   "sourceLang": "en",
   "targetLang": "fr",
   "useGoogleTranslate": true
  },
  "toc": {
   "base_numbering": 1,
   "nav_menu": {},
   "number_sections": true,
   "sideBar": true,
   "skip_h1_title": false,
   "title_cell": "Table of Contents",
   "title_sidebar": "Contents",
   "toc_cell": false,
   "toc_position": {},
   "toc_section_display": true,
   "toc_window_display": false
  },
  "varInspector": {
   "cols": {
    "lenName": 16,
    "lenType": 16,
    "lenVar": 40
   },
   "kernels_config": {
    "python": {
     "delete_cmd_postfix": "",
     "delete_cmd_prefix": "del ",
     "library": "var_list.py",
     "varRefreshCmd": "print(var_dic_list())"
    },
    "r": {
     "delete_cmd_postfix": ") ",
     "delete_cmd_prefix": "rm(",
     "library": "var_list.r",
     "varRefreshCmd": "cat(var_dic_list()) "
    }
   },
   "types_to_exclude": [
    "module",
    "function",
    "builtin_function_or_method",
    "instance",
    "_Feature"
   ],
   "window_display": false
  }
 },
 "nbformat": 4,
 "nbformat_minor": 2
}
